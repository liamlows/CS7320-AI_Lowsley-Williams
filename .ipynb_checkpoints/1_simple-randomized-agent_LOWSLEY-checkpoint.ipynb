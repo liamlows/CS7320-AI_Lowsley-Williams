{
 "cells": [
  {
   "cell_type": "markdown",
   "metadata": {},
   "source": [
    "# Intelligent Agents: Vacuum-cleaner World\n",
    "\n",
    "Implement a simulator environment for a vacuum-cleaner world and a set of intelligent agents.\n",
    "\n",
    "## PEAS description\n",
    "\n",
    "__Performance Measure:__ Each action costs 1. The performance is measured as the sum of the cost to clean the whole environment.\n",
    "\n",
    "__Environment:__ A room with $n \\times n$ squares where $n = 5$. Dirt is randomly placed on each square with probability $p = 0.2$. For simplicity, you can assume that the agent knows the size of the layout of the room (i.e., it knows n and where it starts).\n",
    "\n",
    "__Actuators:__ The agent can `clean` the current square or move to an adjacent square by going `north`, `east`, `west`, or `south`.\n",
    "\n",
    "__Sensors:__ Four bumper sensors, one for north`, `east`, `west`, and `south`; a dirt sensor reporting dirt in the current square.  \n",
    "\n",
    "The easiest implementation for the environment is to hold an 2-dimensional array to represent if squares are clean or dirty and to call the agent function in a loop untill all squares are clean or a predefined number of steps have been reached.\n",
    "\n",
    "## Define the agent program for a simple randomized agent\n",
    "\n",
    "The agent program is a function that gets sensor information (the current percepts) as the arguments. The arguments are:\n",
    "\n",
    "* A dictonary with boolean entries for the for bumper sensors `north`, `east`, `west`, `south`; not specified bumpers are assumed to be `False`. E.g., if the agent is on the north-west corner, `bumpers` gets `{\"north\" : True, \"west\" : True}` or if the agent is not close to a border then it gets `{}`.\n",
    "* The dirt sensor produces a boolean.\n",
    "\n",
    "The agent returns the chosen action as a string.\n",
    "\n",
    "Here is an example implementation for the agent program of a simple randomized agent:  "
   ]
  },
  {
   "cell_type": "code",
   "execution_count": 28,
   "metadata": {},
   "outputs": [],
   "source": [
    "from numpy import random\n",
    "\n",
    "actions = [\"north\", \"east\", \"west\", \"south\", \"suck\"]\n",
    "\n",
    "\n",
    "def simple_randomized_agent(bumpers, dirty):\n",
    "    return random.choice(actions)"
   ]
  },
  {
   "cell_type": "code",
   "execution_count": 29,
   "metadata": {},
   "outputs": [
    {
     "data": {
      "text/plain": [
       "'south'"
      ]
     },
     "execution_count": 29,
     "metadata": {},
     "output_type": "execute_result"
    }
   ],
   "source": [
    "simple_randomized_agent({\"north\" : True}, True)"
   ]
  },
  {
   "cell_type": "markdown",
   "metadata": {},
   "source": [
    "## Simple environment example\n",
    "\n",
    "The environment is infinite in size (bumpers are always `False`) and every square is dirty. We run the agent for 10 times steps."
   ]
  },
  {
   "cell_type": "code",
   "execution_count": 30,
   "metadata": {},
   "outputs": [
    {
     "name": "stdout",
     "output_type": "stream",
     "text": [
      "south\n",
      "north\n",
      "east\n",
      "north\n",
      "south\n",
      "east\n",
      "west\n",
      "suck\n",
      "south\n",
      "suck\n"
     ]
    }
   ],
   "source": [
    "for i in range(10):\n",
    "    print(simple_randomized_agent({\"north\" : False, \"south\" : False, \"west\" : False, \"east\" : False}, True))"
   ]
  },
  {
   "cell_type": "markdown",
   "metadata": {},
   "source": [
    "# Tasks\n",
    "\n",
    "_Submission Instructions:_ Use this notebook to prepare your submission. Complete this section with your code and results. You can use Markdown blocks for your description, comments in the code and use mathplotlib to produce charts. If you use external code files then you can include them with \n",
    "\n",
    "```\n",
    "from notebook import psource\n",
    "psource(\"your_file.py\")\n",
    "```\n",
    "\n",
    "_Note:_ Try to keep the code simple! In this couse, we want to learn about the algorithms and we often do not need to use object-oriented design. \n",
    "\n",
    "\n",
    "## Task 1: Implement a simulation environment\n",
    "\n",
    "Your environment simulator needs to create squares, make some dirty, and proivde the agent function with the sensor inputs. The environment needs to evaluate the performance measure. It needs to track the agent's actions until all dirty squares are clean and count the number of actions it takes the agent to complete the task.\n",
    "\n",
    "The simulation environment needs to work with the simple randomized agent program from above."
   ]
  },
  {
   "cell_type": "code",
   "execution_count": 46,
   "metadata": {},
   "outputs": [],
   "source": [
    "import numpy as np\n",
    "import copy\n",
    "import matplotlib.pyplot as plt"
   ]
  },
  {
   "cell_type": "code",
   "execution_count": 33,
   "metadata": {},
   "outputs": [],
   "source": [
    "# define choices\n",
    "dirty_choices = [True, False]\n",
    "\n",
    "def CreateEnvironment(agent, n = 5, p = .2, position = [0,0], max_steps = 1000, debug = True):\n",
    "    global memory\n",
    "    global pos\n",
    "    if(p > 1):\n",
    "        print(\"Error, dirty prob is > 1\")\n",
    "    else:\n",
    "        # set up 2d matrix w/ random dirty squares\n",
    "        # squares = [[random.choice(dirty_choices, p=[p, 1-p]) for x in range(n)] for y in range(n)] \n",
    "        squares = np.random.choice(a=[True, False], size=(n,n), p=[p,1-p])\n",
    "        # find total number of dirty squares where true = 1\n",
    "        need_clean = np.sum(squares)\n",
    "        if(position != [0,0]):\n",
    "            pos = position\n",
    "        else:\n",
    "            pos = [0,0]\n",
    "        if(debug):\n",
    "            print(need_clean, \" dirty squares\")\n",
    "            print(\"Starting at {}\".format(pos))\n",
    "            for row in squares:\n",
    "                print(row)\n",
    "            print(\"Begin\")\n",
    "        memory = []\n",
    "        # start\n",
    "        for i in range(max_steps):\n",
    "            # set location bumpers\n",
    "            bumpers = {\n",
    "                \"north\": pos[0] == 0,\n",
    "                \"west\": pos[1] == 0,\n",
    "                \"south\": pos[0] == n-1,\n",
    "                \"east\": pos[1] == n-1\n",
    "            }\n",
    "            # locate square and find if dirty\n",
    "            dirt = squares[pos[0]][pos[1]]\n",
    "            if(debug):\n",
    "                print(\"--------------------------\")\n",
    "                print(\"Iteration: \", i)\n",
    "                print(\"Current location: \", pos)\n",
    "                print(\"Bumper status: \", bumpers)\n",
    "                print(\"Square dirty? \", dirt)\n",
    "            # call to agent function\n",
    "            action = agent(bumpers, dirt)\n",
    "            if(debug): \n",
    "                print(\"robot did action: \",action)\n",
    "            # move robot according to action\n",
    "            if(action == \"north\" and pos[0]>0): \n",
    "                pos[0] = pos[0]-1\n",
    "            if(action == \"south\" and pos[0]<(n-1)): \n",
    "                pos[0] = pos[0]+1\n",
    "            if(action == \"east\" and pos[1]<(n-1)): \n",
    "                pos[1] = pos[1]+1\n",
    "            if(action == \"west\" and pos[1]>0): \n",
    "                pos[1] = pos[1]-1\n",
    "            if(action == \"suck\"):\n",
    "                squares[pos[0]][pos[1]] = False\n",
    "            # check number of clean squares\n",
    "            need_clean = np.sum(squares)\n",
    "            if(debug):\n",
    "                print(\"need to clean {} more squares\".format(need_clean))\n",
    "            # check if done\n",
    "            if(need_clean == 0):\n",
    "                if(debug):\n",
    "                    print(\"Environment clean!\")\n",
    "                break\n",
    "        return(i+1)"
   ]
  },
  {
   "cell_type": "markdown",
   "metadata": {},
   "source": [
    "## Task 2:  Implement a simple reflex agent\n",
    "\n",
    "The simple reflex agent randomly walks around but reacts to the bumper sensor by not bumping into the wall and to dirt with sucking."
   ]
  },
  {
   "cell_type": "code",
   "execution_count": 34,
   "metadata": {},
   "outputs": [],
   "source": [
    "def simpleReflexAgent(bumpers, dirty):\n",
    "    if(dirty):\n",
    "        return(\"suck\")\n",
    "    else:\n",
    "        # NW\n",
    "        if(bumpers['north'] and bumpers['west']):\n",
    "            choice = np.random.randint(low = 0, high = 2)\n",
    "            if(choice == 0):\n",
    "                return('south')\n",
    "            if(choice == 1):\n",
    "                return('east')\n",
    "        # NE\n",
    "        elif(bumpers['north'] and bumpers['east']):\n",
    "            choice = np.random.randint(low = 0, high = 2)\n",
    "            if(choice == 0):\n",
    "                return('south')\n",
    "            if(choice == 1):\n",
    "                return('west')\n",
    "        # SW\n",
    "        elif(bumpers['south'] and bumpers['west']):\n",
    "            choice = np.random.randint(low = 0, high = 2)\n",
    "            if(choice == 0):\n",
    "                return('north')\n",
    "            if(choice == 1):\n",
    "                return('east')\n",
    "        # SE\n",
    "        elif(bumpers['south'] and bumpers['east']):\n",
    "            choice = np.random.randint(low = 0, high = 2)\n",
    "            if(choice == 0):\n",
    "                return('north')\n",
    "            if(choice == 1):\n",
    "                return('west')\n",
    "        # N\n",
    "        elif(bumpers['north']):\n",
    "            choice = np.random.randint(low = 0, high = 3)\n",
    "            if(choice == 0):\n",
    "                return('east')\n",
    "            if(choice == 1):\n",
    "                return('west')\n",
    "            if(choice == 2):\n",
    "                return('south')\n",
    "        # E\n",
    "        elif(bumpers['east']):\n",
    "            choice = np.random.randint(low = 0, high = 3)\n",
    "            if(choice == 0):\n",
    "                return('north')\n",
    "            if(choice == 1):\n",
    "                return('west')\n",
    "            if(choice == 2):\n",
    "                return('south')\n",
    "        # S\n",
    "        elif(bumpers['south']):\n",
    "            choice = np.random.randint(low = 0, high = 3)\n",
    "            if(choice == 0):\n",
    "                return('east')\n",
    "            if(choice == 1):\n",
    "                return('west')\n",
    "            if(choice == 2):\n",
    "                return('north')\n",
    "        # W\n",
    "        elif(bumpers['west']):\n",
    "            choice = np.random.randint(low = 0, high = 3)\n",
    "            if(choice == 0):\n",
    "                return('east')\n",
    "            if(choice == 1):\n",
    "                return('north')\n",
    "            if(choice == 2):\n",
    "                return('south')   \n",
    "        # No bumper reading\n",
    "        else:\n",
    "            choice = np.random.randint(low = 0, high = 4)\n",
    "            if(choice == 0):\n",
    "                return('east')\n",
    "            if(choice == 1):\n",
    "                return('west')\n",
    "            if(choice == 2):\n",
    "                return('south')  \n",
    "            if(choice == 3):\n",
    "                return('north')\n",
    "    "
   ]
  },
  {
   "cell_type": "markdown",
   "metadata": {},
   "source": [
    "## Task 3: Implement a model-based reflex agent \n",
    "\n",
    "This agent keeps track of the location and remembers where it has cleaned. Assume the agent knows how many squares the room has and where it starts. It can now use more advanced navigation.\n",
    "\n",
    "How will your agent perform if it is put into a larger room, if the room contains obstacles, or it starts in a random square?"
   ]
  },
  {
   "cell_type": "code",
   "execution_count": 35,
   "metadata": {},
   "outputs": [],
   "source": [
    "# NOTE: uses global position, size, and memory variables per each run.\n",
    "def modelBasedAgent(bumpers, dirty):\n",
    "    # add memory location if not already in list\n",
    "    if(memory[-1:] != [pos]):\n",
    "        memory.append(pos.copy())\n",
    "    # first, if square is dirty, clean and marked as visited location\n",
    "    if(dirty):\n",
    "        return(\"suck\")\n",
    "    # otherwise move forward with decision making process\n",
    "    else:\n",
    "        # if west side and NW or SW corner go east\n",
    "        if(bumpers[\"west\"] and len(memory)==1):\n",
    "            return(\"east\")\n",
    "        # if east side and NE or SE corner go west\n",
    "        if(bumpers[\"east\"] and len(memory)==1):\n",
    "            return(\"west\")\n",
    "        # if not against east wall, and prev spot is to west, move east\n",
    "        if(not(bumpers[\"east\"]) and ((memory[-2:][0])[1] == (pos[1]-1))):\n",
    "            return(\"east\")\n",
    "        # if not against west wall, and prev spot is to east, move west\n",
    "        if(not(bumpers[\"west\"]) and ((memory[-2:][0])[1] == (pos[1]+1))):\n",
    "            return(\"west\")\n",
    "        # if against west wall but previous spot does not match y, move east\n",
    "        if(bumpers[\"west\"] and (memory[-2:][0])[0] != pos[0]):\n",
    "            return(\"east\")\n",
    "        # if against east wall but previous spot does not match y, move west\n",
    "        if(bumpers[\"east\"] and (memory[-2:][0])[0] != pos[0]):\n",
    "            return(\"west\")\n",
    "        # if no bumpers east or west but y coord changed, move east or west (obstacle was hit)\n",
    "        if(not(bumpers[\"east\"]) and not(bumpers[\"west\"]) and (memory[-2:][0])[0] != pos[0]):\n",
    "            return(random.choice([\"east\", \"west\"], p=[.5, .5]))\n",
    "        # if starting on top, move south, else, move north\n",
    "        if(memory[0][0] == 0 and not(bumpers[\"south\"])):\n",
    "            return(\"south\")\n",
    "        elif not(bumpers[\"north\"]):\n",
    "            return(\"north\")    \n",
    "        # safety condition to at least move robot if stuck\n",
    "        avail_moves = [k for k,v in bumpers.items() if v == False]\n",
    "        return random.choice(avail_moves)\n",
    "        \n",
    "        "
   ]
  },
  {
   "cell_type": "markdown",
   "metadata": {},
   "source": [
    "#### How will your agent perform if it is put into a larger room?\n",
    "\n",
    "My agent, when put into a larger room, is still able to clean the entire room so long as the minimum steps specified is large enough to cover \n",
    "\n",
    "$x_\\text{ a move for every square} + y_\\text{ the total number of dirty squares} - 2_\\text{ (for start and stop)}$\n",
    "\n",
    "For example, if the room is 5x5 and has 4 dirty squares, you would need a minimum of $ 25 + 4 - 2 = 27 $ steps. It starts in one corner and will zig zag its way to completion in another corner.\n",
    "\n",
    "#### How will your agent perform if the room contains obstacles? \n",
    "\n",
    "The agent was not built with obstacles in mind, it may run randomly until the maximum allowed steps is reached. It will most likely not perform well at all due to them and may never finish cleaning the environment.\n",
    "\n",
    "#### How will your agent perform if it starts in a random square?\n",
    "\n",
    "The agent can be placed in any corner square. If it is placed in another square other than those 4 then it will zigzag by going straight horizontally, down or up, and then horizontally again until it reaches the last corner in its direction. When it hits this corner it will get stuck."
   ]
  },
  {
   "cell_type": "markdown",
   "metadata": {},
   "source": [
    "## Task 4: Simulation study\n",
    "\n",
    "Compare the performance of the agents using different size environments. E.g., $5 \\times 5$, $10 \\times 10$ and\n",
    "$100 \\times 100$. Use at least 100 random runs for each."
   ]
  },
  {
   "cell_type": "code",
   "execution_count": 42,
   "metadata": {},
   "outputs": [
    {
     "name": "stdout",
     "output_type": "stream",
     "text": [
      "Running 5x5\n",
      "Running 10x10\n",
      "Running 50x50\n",
      "Running 100x100\n"
     ]
    }
   ],
   "source": [
    "# define constraints\n",
    "number_runs = 100\n",
    "number_models = 3\n",
    "sim_sizes = [5, 10, 50, 100]\n",
    "\n",
    "# Holds our number of steps taken for each model for the number of runs\n",
    "steps_taken = [np.repeat(0,number_runs) for i in range(number_models)]\n",
    "# holds all data for all environments\n",
    "all_data = {}\n",
    "\n",
    "# for given environment size\n",
    "for curr_env in sim_sizes:\n",
    "    print(\"Running {}x{}\".format(curr_env,curr_env))\n",
    "    # define max steps to take, will cap at number of moves and cleaning of dirt \n",
    "    #   needed for square if every square was dirty or 10,000\n",
    "    max_steps_env = max(10000, env**2 + env**2)\n",
    "    # loop through number of runs and save off results\n",
    "    for i in range(number_runs):\n",
    "        steps_taken[0][i] = CreateEnvironment(simple_randomized_agent, n = curr_env, max_steps = max_steps_env, debug = False)\n",
    "        steps_taken[1][i] = CreateEnvironment(simpleReflexAgent, n = curr_env, max_steps = max_steps_env, debug = False)\n",
    "        steps_taken[2][i] = CreateEnvironment(modelBasedAgent, n = curr_env, max_steps = max_steps_env, debug = False)\n",
    "    # save off env data to dictionary\n",
    "    all_data[curr_env] = copy.deepcopy(steps_taken)\n"
   ]
  },
  {
   "cell_type": "code",
   "execution_count": 47,
   "metadata": {
    "scrolled": false
   },
   "outputs": [
    {
     "name": "stdout",
     "output_type": "stream",
     "text": [
      "-------------------------------------\n",
      "Environment: 5x5\n",
      "Steps Taken: \n",
      "Agent                         Min       Max       Average   \n",
      "Simple Random Agent                    1      1504     455.0\n",
      "Simple Reflex Agent                    1       415     93.59\n",
      "Model-Based Reflex Agent               7        35     25.14\n"
     ]
    },
    {
     "data": {
      "image/png": "[encoded data removed]",
      "text/plain": [
       "<Figure size 1080x360 with 2 Axes>"
      ]
     },
     "metadata": {
      "needs_background": "light"
     },
     "output_type": "display_data"
    },
    {
     "name": "stdout",
     "output_type": "stream",
     "text": [
      "-------------------------------------\n",
      "Environment: 10x10\n",
      "Steps Taken: \n",
      "Agent                         Min       Max       Average   \n",
      "Simple Random Agent                  822      9460   3278.32\n",
      "Simple Reflex Agent                  281      3298    943.45\n",
      "Model-Based Reflex Agent              98       129    115.03\n"
     ]
    },
    {
     "data": {
      "image/png": "[encoded data removed]",
      "text/plain": [
       "<Figure size 1080x360 with 2 Axes>"
      ]
     },
     "metadata": {
      "needs_background": "light"
     },
     "output_type": "display_data"
    },
    {
     "name": "stdout",
     "output_type": "stream",
     "text": [
      "-------------------------------------\n",
      "Environment: 50x50\n",
      "Steps Taken: \n",
      "Agent                         Min       Max       Average   \n",
      "Simple Random Agent                20000     20000   20000.0\n",
      "Simple Reflex Agent                20000     20000   20000.0\n",
      "Model-Based Reflex Agent            2955      3047   2995.74\n"
     ]
    },
    {
     "data": {
      "image/png": "[encoded data removed]",
      "text/plain": [
       "<Figure size 1080x360 with 2 Axes>"
      ]
     },
     "metadata": {
      "needs_background": "light"
     },
     "output_type": "display_data"
    },
    {
     "name": "stdout",
     "output_type": "stream",
     "text": [
      "-------------------------------------\n",
      "Environment: 100x100\n",
      "Steps Taken: \n",
      "Agent                         Min       Max       Average   \n",
      "Simple Random Agent                20000     20000   20000.0\n",
      "Simple Reflex Agent                20000     20000   20000.0\n",
      "Model-Based Reflex Agent           11889     12085   11993.5\n"
     ]
    },
    {
     "data": {
      "image/png": "[encoded data removed]",
      "text/plain": [
       "<Figure size 1080x360 with 2 Axes>"
      ]
     },
     "metadata": {
      "needs_background": "light"
     },
     "output_type": "display_data"
    }
   ],
   "source": [
    "for env, steps in all_data.items():\n",
    "    # visualize results    \n",
    "    print(\"-------------------------------------\")\n",
    "    print(\"Environment: {}x{}\".format(env,env))\n",
    "    print(\"Steps Taken: \")\n",
    "    print(\"{:30}{:10}{:10}{:10}\".format(\"Agent\", \"Min\", \"Max\", \"Average\"))\n",
    "    print(\"{:30}{:10}{:10}{:10}\".format(\"Simple Random Agent\", np.min(steps[0]), np.max(steps[0]), np.mean(steps[0])))\n",
    "    print(\"{:30}{:10}{:10}{:10}\".format(\"Simple Reflex Agent\", np.min(steps[1]), np.max(steps[1]), np.mean(steps[1])))\n",
    "    print(\"{:30}{:10}{:10}{:10}\".format(\"Model-Based Reflex Agent\", np.min(steps[2]), np.max(steps[2]), np.mean(steps[2])))\n",
    "\n",
    "    fig_main = plt.figure(figsize=(15,5))\n",
    "    fig_main.suptitle(\"{}x{}\".format(env,env))\n",
    "    fig1 = fig_main.add_subplot(1,2,1)\n",
    "    fig2 = fig_main.add_subplot(1,2,2)\n",
    "\n",
    "    fig1.hist(steps[1], bins = 20, label = [\"Simple Reflex Agent\"], color = \"blue\", ec = \"black\")\n",
    "    fig1.set_xlabel(\"# of Steps\")\n",
    "    fig1.set_ylabel(\"Frequency\")\n",
    "    fig1.legend(loc = \"upper right\")\n",
    "    \n",
    "    fig2.hist(steps[2], bins = 20, label = [\"Model-Based Reflex Agent\"], color = \"green\", ec = \"black\")\n",
    "    fig2.set_xlabel(\"# of Steps\")\n",
    "    fig2.set_ylabel(\"Frequency\")\n",
    "    fig2.legend(loc = \"upper right\")\n",
    "    \n",
    "    plt.show()"
   ]
  },
  {
   "cell_type": "markdown",
   "metadata": {},
   "source": [
    "As seen in the data portrayed above, the model based reflex agent performs the absolute best, followed by the simple reflex agent, and then followed by the simple random agent. In each simulation, a given square had a 20% chance of being dirty on creation of an environment and there were no obstacles palced. It should be noted that for each run of an environment, there could be more dirty squares than in other runs. This could explain why the minimum number of steps taken on the model-reflex based agent is so high. Also, when running the agents on a floor sized 50x50 and up we see that really the only agent that could really even be used in larger sizes is the model-based reflex agent. The simple reflex agent can barely function and reaches it's cap in the number of steps required."
   ]
  },
  {
   "cell_type": "code",
   "execution_count": 61,
   "metadata": {},
   "outputs": [
    {
     "name": "stdout",
     "output_type": "stream",
     "text": [
      "Simple Random Agent\n"
     ]
    },
    {
     "data": {
      "image/png": "[encoded data removed]",
      "text/plain": [
       "<Figure size 432x288 with 4 Axes>"
      ]
     },
     "metadata": {
      "needs_background": "light"
     },
     "output_type": "display_data"
    }
   ],
   "source": [
    "env5 = all_data[5][0]\n",
    "env10 = all_data[10][0]\n",
    "env50 = all_data[50][0]\n",
    "env100 = all_data[100][0]\n",
    "print(\"Simple Random Agent\")\n",
    "fig, axs = plt.subplots(2, 2)\n",
    "axs[0, 0].hist(env5,bins = 20, label = [\"Simple Random Agent\"], color = \"orange\", ec = \"black\")\n",
    "axs[0, 0].set_title(\"5x5\")\n",
    "axs[0, 0].set_xlabel(\"# of Steps\")\n",
    "axs[0, 0].set_ylabel(\"Frequency\")\n",
    "axs[1, 0].hist(env10,bins = 20, label = [\"Simple Random Agent\"], color = \"green\", ec = \"black\")\n",
    "axs[1, 0].set_title(\"10x10\")\n",
    "axs[1, 0].set_xlabel(\"# of Steps\")\n",
    "axs[1, 0].set_ylabel(\"Frequency\")\n",
    "axs[0, 1].hist(env50,bins = 20, label = [\"Simple Random Agent\"], color = \"blue\", ec = \"black\")\n",
    "axs[0, 1].set_title(\"50x50\")\n",
    "axs[0, 1].set_xlabel(\"# of Steps\")\n",
    "axs[0, 1].set_ylabel(\"Frequency\")\n",
    "axs[1, 1].hist(env100,bins = 20, label = [\"Simple Random Agent\"], color = \"red\", ec = \"black\")\n",
    "axs[1, 1].set_title(\"100x100\")\n",
    "axs[1, 1].set_xlabel(\"# of Steps\")\n",
    "axs[1, 1].set_ylabel(\"Frequency\")\n",
    "fig.tight_layout()"
   ]
  },
  {
   "cell_type": "markdown",
   "metadata": {},
   "source": [
    "As seen in the graphs depicted above, the performance of the simple random agent just performs terribly. Therefore, it is not even really worth it to compare it to that of the performance of the simple reflex agent or the model-based agent. I would maybe consider using this type of agent in an extremely small space but even there it has no decision process for its actions, making it a poor robot to choose.\n",
    "\n",
    "For the simple reflex agent, it performed somewhat ok but really struggled in the larger room situations. It may be a perfectly fine choice to use if you have a very small space since it at least acts based off its percepts but it is still a poor choice\n",
    "\n",
    "For the model based reflex agent, we saw the best results and it would be the optimal choice of the three for really any room type. The agent is set to be able to handle obstacles (pretty terribly but is still programmed to do so) and actually remembers where it has been to better assist it in making a decision on where to go. It will usually not go over locations it has been to and does need memory in order to function. However, as we can see in the graphs above, it actually had a fairly decent average for the number of steps taken. In the 100x100 case, the average was 11,993.5 which is really not bad considering the total squares in that environment was 10,000.\n"
   ]
  },
  {
   "cell_type": "markdown",
   "metadata": {},
   "source": [
    "## Bonus tasks\n",
    "\n",
    "* __Obstacles:__ Add random obstacle squares that also trigger the bumper sensor. The agent does not know where the obstacles are. How does this change the performance?\n",
    "* __Unknown environment with obstacles:__ The agent does not know how large the environment is, where it starts or where the obstacles are.\n",
    "* __Utility-based agent:__ Change the environment, so each square has a fixed probability of getting dirty again. Give this information to the agent (as a 2-dimensional array of probabilities). Cleaning one dirty square produces the utility of 1. Implement a utility-based agent that maximizes the expected utility over a time horizon of 10000 time steps. This is very tricky!"
   ]
  },
  {
   "cell_type": "code",
   "execution_count": null,
   "metadata": {},
   "outputs": [],
   "source": [
    "# Was unable to really do any of these, sorry!"
   ]
  }
 ],
 "metadata": {
  "kernelspec": {
   "display_name": "Python 3",
   "language": "python",
   "name": "python3"
  },
  "language_info": {
   "codemirror_mode": {
    "name": "ipython",
    "version": 3
   },
   "file_extension": ".py",
   "mimetype": "text/x-python",
   "name": "python",
   "nbconvert_exporter": "python",
   "pygments_lexer": "ipython3",
   "version": "3.8.5"
  }
 },
 "nbformat": 4,
 "nbformat_minor": 4
}
