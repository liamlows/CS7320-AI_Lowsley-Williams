{
 "cells": [
  {
   "cell_type": "markdown",
   "metadata": {},
   "source": [
    "# Intelligent Agents: Vacuum-cleaner World\n",
    "\n",
    "Implement a simulator environment for a vacuum-cleaner world and a set of intelligent agents.\n",
    "\n",
    "## PEAS description\n",
    "\n",
    "__Performance Measure:__ Each action costs 1. The performance is measured as the sum of the cost to clean the whole environment.\n",
    "\n",
    "__Environment:__ A room with $n \\times n$ squares where $n = 5$. Dirt is randomly placed on each square with probability $p = 0.2$. For simplicity, you can assume that the agent knows the size of the layout of the room (i.e., it knows n and where it starts).\n",
    "\n",
    "__Actuators:__ The agent can `clean` the current square or move to an adjacent square by going `north`, `east`, `west`, or `south`.\n",
    "\n",
    "__Sensors:__ Four bumper sensors, one for north`, `east`, `west`, and `south`; a dirt sensor reporting dirt in the current square.  \n",
    "\n",
    "The easiest implementation for the environment is to hold an 2-dimensional array to represent if squares are clean or dirty and to call the agent function in a loop untill all squares are clean or a predefined number of steps have been reached.\n",
    "\n",
    "## Define the agent program for a simple randomized agent\n",
    "\n",
    "The agent program is a function that gets sensor information (the current percepts) as the arguments. The arguments are:\n",
    "\n",
    "* A dictonary with boolean entries for the for bumper sensors `north`, `east`, `west`, `south`; not specified bumpers are assumed to be `False`. E.g., if the agent is on the north-west corner, `bumpers` gets `{\"north\" : True, \"west\" : True}` or if the agent is not close to a border then it gets `{}`.\n",
    "* The dirt sensor produces a boolean.\n",
    "\n",
    "The agent returns the chosen action as a string.\n",
    "\n",
    "Here is an example implementation for the agent program of a simple randomized agent:  "
   ]
  },
  {
   "cell_type": "code",
   "execution_count": 62,
   "metadata": {},
   "outputs": [],
   "source": [
    "from numpy import random\n",
    "\n",
    "actions = [\"north\", \"east\", \"west\", \"south\", \"suck\"]\n",
    "\n",
    "\n",
    "def simple_randomized_agent(bumpers, dirty):\n",
    "    return random.choice(actions)"
   ]
  },
  {
   "cell_type": "code",
   "execution_count": 63,
   "metadata": {},
   "outputs": [
    {
     "data": {
      "text/plain": [
       "'north'"
      ]
     },
     "execution_count": 63,
     "metadata": {},
     "output_type": "execute_result"
    }
   ],
   "source": [
    "simple_randomized_agent({\"north\" : True}, True)"
   ]
  },
  {
   "cell_type": "markdown",
   "metadata": {},
   "source": [
    "## Simple environment example\n",
    "\n",
    "The environment is infinite in size (bumpers are always `False`) and every square is dirty. We run the agent for 10 times steps."
   ]
  },
  {
   "cell_type": "code",
   "execution_count": 64,
   "metadata": {},
   "outputs": [
    {
     "name": "stdout",
     "output_type": "stream",
     "text": [
      "north\n",
      "west\n",
      "north\n",
      "west\n",
      "east\n",
      "east\n",
      "south\n",
      "suck\n",
      "east\n",
      "south\n"
     ]
    }
   ],
   "source": [
    "for i in range(10):\n",
    "    print(simple_randomized_agent({\"north\" : False, \"south\" : False, \"west\" : False, \"east\" : False}, True))"
   ]
  },
  {
   "cell_type": "markdown",
   "metadata": {},
   "source": [
    "# Tasks\n",
    "\n",
    "_Submission Instructions:_ Use this notebook to prepare your submission. Complete this section with your code and results. You can use Markdown blocks for your description, comments in the code and use mathplotlib to produce charts. If you use external code files then you can include them with \n",
    "\n",
    "```\n",
    "from notebook import psource\n",
    "psource(\"your_file.py\")\n",
    "```\n",
    "\n",
    "_Note:_ Try to keep the code simple! In this couse, we want to learn about the algorithms and we often do not need to use object-oriented design. \n",
    "\n",
    "\n",
    "## Task 1: Implement a simulation environment\n",
    "\n",
    "Your environment simulator needs to create squares, make some dirty, and proivde the agent function with the sensor inputs. The environment needs to evaluate the performance measure. It needs to track the agent's actions until all dirty squares are clean and count the number of actions it takes the agent to complete the task.\n",
    "\n",
    "The simulation environment needs to work with the simple randomized agent program from above."
   ]
  },
  {
   "cell_type": "code",
   "execution_count": 65,
   "metadata": {},
   "outputs": [],
   "source": [
    "import numpy as np\n",
    "import copy"
   ]
  },
  {
   "cell_type": "code",
   "execution_count": 66,
   "metadata": {},
   "outputs": [],
   "source": [
    "# define choices\n",
    "dirty_choices = [True, False]\n",
    "\n",
    "def CreateEnvironment(agent, n = 5, p = .2, start = \"NW\", max_steps = 1000, debug = True):\n",
    "    global memory\n",
    "    global pos\n",
    "    if(p > 1):\n",
    "        print(\"Error, dirty prob is > 1\")\n",
    "    else:\n",
    "        # set up 2d matrix w/ random dirty squares\n",
    "        squares = [[random.choice(dirty_choices, p=[p, 1-p]) for x in range(n)] for y in range(n)] \n",
    "        # find total number of dirty squares where true = 1\n",
    "        need_clean = np.sum(squares)\n",
    "        # set pos\n",
    "        if(start == \"NW\"):\n",
    "            pos = [0, 0]\n",
    "        elif(start == \"NE\"):\n",
    "            pos = [0, n-1]\n",
    "        elif(start == \"SW\"):\n",
    "            pos = [n-1, 0]\n",
    "        elif(start == \"SE\"):\n",
    "            pos = [n-1, n-1]\n",
    "        if(debug):\n",
    "            print(need_clean, \" dirty squares\")\n",
    "            print(\"Starting in {} corner\".format(start))\n",
    "            for row in squares:\n",
    "                print(row)\n",
    "            print(\"Begin\")\n",
    "        memory = []\n",
    "        # start\n",
    "        for i in range(max_steps):\n",
    "            # set location bumpers\n",
    "            bumpers = {\n",
    "                \"north\": pos[0] == 0,\n",
    "                \"west\": pos[1] == 0,\n",
    "                \"south\": pos[0] == n-1,\n",
    "                \"east\": pos[1] == n-1\n",
    "            }\n",
    "            # locate square and find if dirty\n",
    "            dirt = squares[pos[0]][pos[1]]\n",
    "            if(debug):\n",
    "                print(\"--------------------------\")\n",
    "                print(\"Iteration: \", i)\n",
    "                print(\"Current location: \", pos)\n",
    "                print(\"Bumper status: \", bumpers)\n",
    "                print(\"Square dirty? \", dirt)\n",
    "            # call to agent function\n",
    "            action = agent(bumpers, dirt)\n",
    "            if(debug): \n",
    "                print(\"robot did action: \",action)\n",
    "            # move robot according to action\n",
    "            if(action == \"north\" and pos[0]>0): \n",
    "                pos[0] = pos[0]-1\n",
    "            if(action == \"south\" and pos[0]<(n-1)): \n",
    "                pos[0] = pos[0]+1\n",
    "            if(action == \"east\" and pos[1]<(n-1)): \n",
    "                pos[1] = pos[1]+1\n",
    "            if(action == \"west\" and pos[1]>0): \n",
    "                pos[1] = pos[1]-1\n",
    "            if(action == \"suck\"):\n",
    "                squares[pos[0]][pos[1]] = False\n",
    "            # check number of clean squares\n",
    "            need_clean = np.sum(squares)\n",
    "            if(debug):\n",
    "                print(\"need to clean {} more squares\".format(need_clean))\n",
    "            # check if done\n",
    "            if(need_clean == 0):\n",
    "                print(\"Environment clean!\")\n",
    "                break\n",
    "        return(i+1)"
   ]
  },
  {
   "cell_type": "code",
   "execution_count": null,
   "metadata": {},
   "outputs": [],
   "source": [
    "CreateEnvironment(simple_randomized_agent, n = 5, p = .2)"
   ]
  },
  {
   "cell_type": "markdown",
   "metadata": {},
   "source": [
    "## Task 2:  Implement a simple reflex agent\n",
    "\n",
    "The simple reflex agent randomly walks around but reacts to the bumper sensor by not bumping into the wall and to dirt with sucking."
   ]
  },
  {
   "cell_type": "code",
   "execution_count": 67,
   "metadata": {},
   "outputs": [],
   "source": [
    "def simpleReflexAgent(bumpers, dirty):\n",
    "    if(dirty):\n",
    "        return(\"suck\")\n",
    "    else:\n",
    "        # NW\n",
    "        if(bumpers['north'] and bumpers['west']):\n",
    "            choice = np.random.randint(low = 0, high = 2)\n",
    "            print(\"NW\")\n",
    "            if(choice == 0):\n",
    "                return('south')\n",
    "            if(choice == 1):\n",
    "                return('east')\n",
    "        # NE\n",
    "        elif(bumpers['north'] and bumpers['east']):\n",
    "            choice = np.random.randint(low = 0, high = 2)\n",
    "            if(choice == 0):\n",
    "                return('south')\n",
    "            if(choice == 1):\n",
    "                return('west')\n",
    "        # SW\n",
    "        elif(bumpers['south'] and bumpers['west']):\n",
    "            choice = np.random.randint(low = 0, high = 2)\n",
    "            if(choice == 0):\n",
    "                return('north')\n",
    "            if(choice == 1):\n",
    "                return('east')\n",
    "        # SE\n",
    "        elif(bumpers['south'] and bumpers['east']):\n",
    "            choice = np.random.randint(low = 0, high = 2)\n",
    "            if(choice == 0):\n",
    "                return('north')\n",
    "            if(choice == 1):\n",
    "                return('west')\n",
    "        # N\n",
    "        elif(bumpers['north']):\n",
    "            choice = np.random.randint(low = 0, high = 3)\n",
    "            if(choice == 0):\n",
    "                return('east')\n",
    "            if(choice == 1):\n",
    "                return('west')\n",
    "            if(choice == 2):\n",
    "                return('south')\n",
    "        # E\n",
    "        elif(bumpers['east']):\n",
    "            choice = np.random.randint(low = 0, high = 3)\n",
    "            if(choice == 0):\n",
    "                return('north')\n",
    "            if(choice == 1):\n",
    "                return('west')\n",
    "            if(choice == 2):\n",
    "                return('south')\n",
    "        # S\n",
    "        elif(bumpers['south']):\n",
    "            choice = np.random.randint(low = 0, high = 3)\n",
    "            if(choice == 0):\n",
    "                return('east')\n",
    "            if(choice == 1):\n",
    "                return('west')\n",
    "            if(choice == 2):\n",
    "                return('north')\n",
    "        # W\n",
    "        elif(bumpers['west']):\n",
    "            choice = np.random.randint(low = 0, high = 3)\n",
    "            if(choice == 0):\n",
    "                return('east')\n",
    "            if(choice == 1):\n",
    "                return('north')\n",
    "            if(choice == 2):\n",
    "                return('south')   \n",
    "        # No bumper reading\n",
    "        else:\n",
    "            choice = np.random.randint(low = 0, high = 4)\n",
    "            if(choice == 0):\n",
    "                return('east')\n",
    "            if(choice == 1):\n",
    "                return('west')\n",
    "            if(choice == 2):\n",
    "                return('south')  \n",
    "            if(choice == 3):\n",
    "                return('north')\n",
    "    "
   ]
  },
  {
   "cell_type": "code",
   "execution_count": null,
   "metadata": {},
   "outputs": [],
   "source": [
    "CreateEnvironment(simpleReflexAgent, n = 5, p = .2, start = \"NW\")"
   ]
  },
  {
   "cell_type": "markdown",
   "metadata": {},
   "source": [
    "## Task 3: Implement a model-based reflex agent \n",
    "\n",
    "This agent keeps track of the location and remembers where it has cleaned. Assume the agent knows how many squares the room has and where it starts. It can now use more advanced navigation.\n",
    "\n",
    "How will your agent perform if it is put into a larger room, if the room contains obstacles, or it starts in a random square?"
   ]
  },
  {
   "cell_type": "code",
   "execution_count": 68,
   "metadata": {},
   "outputs": [],
   "source": [
    "# NOTE: uses global position, size, and memory variables per each run.\n",
    "def modelBasedAgent(bumpers, dirty):\n",
    "    # add memory location if not already in list\n",
    "    if(memory[-1:] != [pos]):\n",
    "        memory.append(pos.copy())\n",
    "    # first, if square is dirty, clean and marked as visited location\n",
    "    if(dirty):\n",
    "        return(\"suck\")\n",
    "    # otherwise move forward with decision making process\n",
    "    else:\n",
    "        # if west side and NW or SW corner go east\n",
    "        if(bumpers[\"west\"] and len(memory)==1):\n",
    "            return(\"east\")\n",
    "        # if east side and NE or SE corner go west\n",
    "        if(bumpers[\"east\"] and len(memory)==1):\n",
    "            return(\"west\")\n",
    "        # if not against east wall, and prev spot is to west, move east\n",
    "        if(not(bumpers[\"east\"]) and ((memory[-2:][0])[1] == (pos[1]-1))):\n",
    "            return(\"east\")\n",
    "        # if not against west wall, and prev spot is to east, move west\n",
    "        if(not(bumpers[\"west\"]) and ((memory[-2:][0])[1] == (pos[1]+1))):\n",
    "            return(\"west\")\n",
    "        # if against west wall but previous spot does not match y, move east\n",
    "        if(bumpers[\"west\"] and (memory[-2:][0])[0] != pos[0]):\n",
    "            return(\"east\")\n",
    "        # if against east wall but previous spot does not match y, move west\n",
    "        if(bumpers[\"east\"] and (memory[-2:][0])[0] != pos[0]):\n",
    "            return(\"west\")\n",
    "        # if no bumpers east or west but y coord changed, move east or west (obstacle was hit)\n",
    "        if(not(bumpers[\"east\"]) and not(bumpers[\"west\"]) and (memory[-2:][0])[0] != pos[0]):\n",
    "            return(random.choice([\"east\", \"west\"], p=[.5, .5]))\n",
    "        # if starting on top, move south, else, move north\n",
    "        if(memory[0][0] == 0):\n",
    "            return(\"south\")\n",
    "        else:\n",
    "            return(\"north\")    "
   ]
  },
  {
   "cell_type": "code",
   "execution_count": null,
   "metadata": {
    "scrolled": true
   },
   "outputs": [],
   "source": [
    "run1_MBA = CreateEnvironment(modelBasedAgent, n = 5, p = .2, start = \"NW\")\n",
    "# run2_MBA = CreateEnvironment(modelBasedAgent, n = 15, p = .2, start = \"SW\")\n",
    "# run3_MBA = CreateEnvironment(modelBasedAgent, n = 25, p = .2, start = \"SE\")"
   ]
  },
  {
   "cell_type": "markdown",
   "metadata": {},
   "source": [
    "#### How will your agent perform if it is put into a larger room?\n",
    "\n",
    "My agent, when put into a larger room, is still able to clean the entire room so long as the minimum steps specified is large enough to cover \n",
    "\n",
    "$x_\\text{ a move for every square} + y_\\text{ the total number of dirty squares} - 2_\\text{ (for start and stop)}$\n",
    "\n",
    "For example, if the room is 5x5 and has 4 dirty squares, you would need a minimum of $ 25 + 4 - 2 = 27 $ steps.\n",
    "\n",
    "#### How will your agent perform if the room contains obstacles? \n",
    "\n",
    "The agent was not built with obstacles in mind, it may run randomly until the maximum allowed steps is reached. It will most likely not perform well at all due to them.\n",
    "\n",
    "#### How will your agent perform if it starts in a random square?\n",
    "\n",
    "The agent can be placed in any corner square. If it is placed in another square other than those 4 then it will zigzag by going straight horizontally, down or up, and then horizontally again until it reaches the last corner in its direction. When it hits this corner it will get stuck."
   ]
  },
  {
   "cell_type": "markdown",
   "metadata": {},
   "source": [
    "## Task 4: Simulation study\n",
    "\n",
    "Compare the performance of the agents using different size environments. E.g., $5 \\times 5$, $10 \\times 10$ and\n",
    "$100 \\times 100$. Use at least 100 random runs for each."
   ]
  },
  {
   "cell_type": "code",
   "execution_count": null,
   "metadata": {},
   "outputs": [],
   "source": [
    "# Your code goes here"
   ]
  },
  {
   "cell_type": "markdown",
   "metadata": {},
   "source": [
    "## Bonus tasks\n",
    "\n",
    "* __Obstacles:__ Add random obstacle squares that also trigger the bumper sensor. The agent does not know where the obstacles are. How does this change the performance?\n",
    "* __Unknown environment with obstacles:__ The agent does not know how large the environment is, where it starts or where the obstacles are.\n",
    "* __Utility-based agent:__ Change the environment, so each square has a fixed probability of getting dirty again. Give this information to the agent (as a 2-dimensional array of probabilities). Cleaning one dirty square produces the utility of 1. Implement a utility-based agent that maximizes the expected utility over a time horizon of 10000 time steps. This is very tricky!"
   ]
  },
  {
   "cell_type": "code",
   "execution_count": null,
   "metadata": {},
   "outputs": [],
   "source": [
    "# Your code goes here"
   ]
  }
 ],
 "metadata": {
  "kernelspec": {
   "display_name": "Python 3",
   "language": "python",
   "name": "python3"
  },
  "language_info": {
   "codemirror_mode": {
    "name": "ipython",
    "version": 3
   },
   "file_extension": ".py",
   "mimetype": "text/x-python",
   "name": "python",
   "nbconvert_exporter": "python",
   "pygments_lexer": "ipython3",
   "version": "3.8.5"
  }
 },
 "nbformat": 4,
 "nbformat_minor": 4
}
