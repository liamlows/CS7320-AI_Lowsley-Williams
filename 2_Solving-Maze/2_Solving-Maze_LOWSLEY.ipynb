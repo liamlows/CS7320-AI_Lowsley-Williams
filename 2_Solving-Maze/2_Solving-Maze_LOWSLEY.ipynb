{
 "cells": [
  {
   "cell_type": "markdown",
   "metadata": {},
   "source": [
    "# Search: Solving a maze\n",
    "\n",
    "Total Points: 10\n",
    "\n",
    "\n",
    "The agent has a map of the maze it is in (i.e., the environment is deterministic, discrete, and known). The agent must use the map to plan a path through the maze from the starting location $S$ to the goal location $G$.  \n",
    "\n",
    "Here is the small example maze:"
   ]
  },
  {
   "cell_type": "code",
   "execution_count": 3,
   "metadata": {},
   "outputs": [
    {
     "name": "stdout",
     "output_type": "stream",
     "text": [
      "XXXXXXXXXXXXXXXXXXXXXX\n",
      "X XX        X X      X\n",
      "X    XXXXXX X XXXXXX X\n",
      "XXXXXX     S  X      X\n",
      "X    X XXXXXX XX XXXXX\n",
      "X XXXX X         X   X\n",
      "X        XXX XXX   X X\n",
      "XXXXXXXXXX    XXXXXX X\n",
      "XG         XX        X\n",
      "XXXXXXXXXXXXXXXXXXXXXX\n",
      "\n"
     ]
    }
   ],
   "source": [
    "f = open(\"small_maze.txt\", \"r\")\n",
    "maze_str = f.read()\n",
    "print(maze_str)"
   ]
  },
  {
   "cell_type": "markdown",
   "metadata": {},
   "source": [
    "__Notes:__ \n",
    "* This is a planing exercise, so you do not need to implement an environment, just use the map to search for a path. Once the plan is made, the agent can just follow the path and does not need percepts. The execution phase is trivial and we do not implement it in this exercise.\n",
    "* Tree search algorithm implementations that you find online have often a different aim. The algorithms assume that you already have a tree and the goal is to traverse all nodes. We are interested in dynamically creating a search tree with the aim of finding a good/the best path to the goal state. Ideally, we would like to search only a small part of the maze, i.e., create a search tree with as few nodes as possible. \n",
    "* Some mazes may contain cycles and therefore not form proper trees unless cycles are prevented. \n",
    "\n",
    "## Parsing and pretty printing the maze\n",
    "\n",
    "The maze can also be displayed in color using code in the file [maze_helper.py](maze_helper.py). The code parses the string representing the maze and converts it into a `numpy` 2d array which you can use in your implementation."
   ]
  },
  {
   "cell_type": "code",
   "execution_count": 11,
   "metadata": {
    "scrolled": true
   },
   "outputs": [
    {
     "name": "stdout",
     "output_type": "stream",
     "text": [
      "Position(0,0): X\n",
      "Position(8,1): G\n"
     ]
    }
   ],
   "source": [
    "%run maze_helper.py\n",
    "\n",
    "maze = parse_maze(maze_str)\n",
    "\n",
    "# look at two positions in the maze\n",
    "print(\"Position(0,0):\", maze[0, 0])\n",
    "\n",
    "# there is also a helper function called `look(maze, pos)`\n",
    "print(\"Position(8,1):\", look(maze, [8, 1]))"
   ]
  },
  {
   "cell_type": "markdown",
   "metadata": {},
   "source": [
    "Visualize the maze"
   ]
  },
  {
   "cell_type": "code",
   "execution_count": 5,
   "metadata": {},
   "outputs": [
    {
     "data": {
      "image/png": "[encoded data removed]",
      "text/plain": [
       "<Figure size 432x288 with 1 Axes>"
      ]
     },
     "metadata": {
      "needs_background": "light"
     },
     "output_type": "display_data"
    }
   ],
   "source": [
    "show_maze(maze)"
   ]
  },
  {
   "cell_type": "markdown",
   "metadata": {},
   "source": [
    "Find the position of the start and the goal using the helper function `find_pos()`"
   ]
  },
  {
   "cell_type": "code",
   "execution_count": 8,
   "metadata": {},
   "outputs": [
    {
     "name": "stdout",
     "output_type": "stream",
     "text": [
      "Start location: [3, 11]\n",
      "Goal location: [8, 1]\n"
     ]
    }
   ],
   "source": [
    "print(\"Start location:\", find_pos(maze, what = \"S\"))\n",
    "print(\"Goal location:\", find_pos(maze, what = \"G\"))"
   ]
  },
  {
   "cell_type": "markdown",
   "metadata": {},
   "source": [
    "## Tree structures\n",
    "\n",
    "A basic tree implementation in Python is available at https://github.com/yoyzhou/pyTree (found by John Park).\n"
   ]
  },
  {
   "cell_type": "markdown",
   "metadata": {},
   "source": [
    "# Tasks\n",
    "\n",
    "Implement the following search algorithms for solving different mazes:\n",
    "\n",
    "* Breadth-first search (BFS)\n",
    "* Depth-first search (DFS)\n",
    "* Iterative deepening search (IDS)\n",
    "* Greedy best-first search (GBFS)\n",
    "* A* search\n",
    "\n",
    "Run each of the above algorithms on the \n",
    "[small maze](small_maze.txt), \n",
    "[medium maze](medium_maze.txt), \n",
    "[large maze](large_maze.txt), \n",
    "[open maze](open_maze.txt),\n",
    "[empty maze](empty_maze.txt), \n",
    "[wall maze](wall_maze.txt), \n",
    "and the \n",
    "[loops maze](loops_maze.txt). \n",
    "For each problem instance and each search algorithm, report the following in a table:\n",
    "\n",
    "* The solution and its path cost\n",
    "* Number of nodes expanded\n",
    "* Maximum tree depth searched\n",
    "* Maximum size of the frontier.\n",
    "\n",
    "Display each solution by marking every maze square (or state) visited and the squares on the final path."
   ]
  },
  {
   "cell_type": "markdown",
   "metadata": {},
   "source": [
    "## Task 1: Defining the search Problem [1 point]\n",
    "\n",
    "Define the components of the search problem:\n",
    "\n",
    "* Initial state\n",
    "* Actions\n",
    "* Transition model\n",
    "* Goal state\n",
    "* Path cost"
   ]
  },
  {
   "cell_type": "markdown",
   "metadata": {},
   "source": [
    "#### My components as follows:\n",
    "1) Initial State: For the initial state, the agent starts at the marked starting position according to the maze in question. This is signified by a S in the maze or a blue square as seen in visualizations.\n",
    "\n",
    "2) Actions: For the actions that my agent can take, it can either go up, right, down, or left so long as a wall does not block the direction. These are hard set by the maze but the actions are also limited by which squares have already been visited. The agent will not go over previously visited squares.\n",
    "\n",
    "3) Transition Model: For the transition model, a successive state is achieved by whatever action the agent chooses to perform. Each successive state that is achieved by the agent may not be logical from a birds eye view but the agent should ultimately be able to reach the goal through these states.\n",
    "\n",
    "4) Goal State: The goal state here is the ending position as marked by the maze. This is signified by a G in the maze or a green square as seen in visualizations.\n",
    "\n",
    "5) Path Cost: The path cost in this problem is the number of steps taken from the starting position to the goal position. This can be seen as a red line in the visualizations once a given maze has been solved. Here, each step has a cost of 1."
   ]
  },
  {
   "cell_type": "markdown",
   "metadata": {},
   "source": [
    "## Task 2: Breadth-first, Depth-first and iterative deepening search [4 points]\n",
    "\n",
    "Implement these search strategies. You can implement a generic tree search following the BFS pseudo-code in your textbook and then just adapt the order in which the frontier is explored."
   ]
  },
  {
   "cell_type": "markdown",
   "metadata": {},
   "source": [
    "### Helper Functions and Initialization\n",
    "Below are some helper functions and initialization of the maze."
   ]
  },
  {
   "cell_type": "code",
   "execution_count": 82,
   "metadata": {},
   "outputs": [
    {
     "name": "stdout",
     "output_type": "stream",
     "text": [
      "X\n"
     ]
    },
    {
     "data": {
      "image/png": "[encoded data removed]",
      "text/plain": [
       "<Figure size 432x288 with 1 Axes>"
      ]
     },
     "metadata": {
      "needs_background": "light"
     },
     "output_type": "display_data"
    }
   ],
   "source": [
    "from pyTree.Tree import Tree\n",
    "import numpy as np\n",
    "\n",
    "# open and run our maze helper file which allows us to parse and visualize the maze\n",
    "%run maze_helper.py\n",
    "\n",
    "# define the maze names\n",
    "maze_names = {\n",
    "    \"small\": \"small_maze.txt\",\n",
    "    \"medium\": \"medium_maze.txt\",\n",
    "    \"large\": \"large_maze.txt\",\n",
    "    \"open\": \"open_maze.txt\",\n",
    "    \"empty\": \"empty_maze.txt\",\n",
    "    \"wall\": \"wall_maze.txt\",\n",
    "    \"loops\": \"loops_maze.txt\"\n",
    "}\n",
    "# define maze variable\n",
    "global maze\n",
    "# initialize maze\n",
    "def load_maze(name):\n",
    "    # open the maze file and read it in\n",
    "    maze_read = open(maze_names[name], \"r\").read()\n",
    "    # parse the maze\n",
    "    return(parse_maze(maze_read))\n",
    "# quick visualization test    \n",
    "maze = load_maze(\"large\")\n",
    "print(maze[8,1])\n",
    "show_maze(maze)"
   ]
  },
  {
   "cell_type": "code",
   "execution_count": 11,
   "metadata": {},
   "outputs": [
    {
     "data": {
      "text/plain": [
       "[3, 11]"
      ]
     },
     "execution_count": 11,
     "metadata": {},
     "output_type": "execute_result"
    }
   ],
   "source": [
    "# function to find position of given value in maze, used for start and goal, finds first occurance\n",
    "def find_position(maze, loc = \"S\"):\n",
    "    pos_tuple = np.where(maze == loc)\n",
    "    pos_x = pos_tuple[0][0]\n",
    "    pos_y = pos_tuple[1][0]\n",
    "    return([pos_x, pos_y])\n",
    "\n",
    "find_position(maze, \"S\")"
   ]
  },
  {
   "cell_type": "code",
   "execution_count": 33,
   "metadata": {},
   "outputs": [
    {
     "data": {
      "text/plain": [
       "'S'"
      ]
     },
     "execution_count": 33,
     "metadata": {},
     "output_type": "execute_result"
    }
   ],
   "source": [
    "# function to check what square at given position is\n",
    "def check_square(maze, pos):\n",
    "    return(maze[pos[0], pos[1]])\n",
    "\n",
    "check_square(maze, [3,11])"
   ]
  },
  {
   "cell_type": "code",
   "execution_count": 38,
   "metadata": {},
   "outputs": [
    {
     "data": {
      "text/plain": [
       "[[3, 10], [3, 12], [2, 11]]"
      ]
     },
     "execution_count": 38,
     "metadata": {},
     "output_type": "execute_result"
    }
   ],
   "source": [
    "# find all available moves in a given square by checking for \"X\" in all adjacent squares\n",
    "def available_moves(maze, pos, strat = \"random\"):\n",
    "    adjacent_locs = np.add(pos, [[-1,0], [0,1], [1,0], [0,-1]])[::-1]\n",
    "    \n",
    "    if(strat != \"left\"):\n",
    "        np.random.shuffle(adjacent_locs)\n",
    "        \n",
    "    possible_moves = [ pos_ok.tolist() for pos_ok in adjacent_locs if check_square(maze,pos_ok) != \"X\" ]\n",
    "    \n",
    "    return possible_moves\n",
    "    \n",
    "available_moves(maze, (3,11), strat=\"left\")"
   ]
  },
  {
   "cell_type": "code",
   "execution_count": 39,
   "metadata": {},
   "outputs": [],
   "source": [
    "# obtain path that has been travelled already\n",
    "def obtain_path(node):\n",
    "    path = []\n",
    "    path.append(node.data)\n",
    "    \n",
    "    while not node.isRoot():\n",
    "        node = node.getParent()\n",
    "        path.append(node.data)\n",
    "        \n",
    "    path.reverse()\n",
    "    return(path)"
   ]
  },
  {
   "cell_type": "code",
   "execution_count": 72,
   "metadata": {},
   "outputs": [],
   "source": [
    "# show chosen path in end and also what areas were reached\n",
    "def show_path(maze, path, reached = []):\n",
    "    maze_copy = np.copy(maze)\n",
    "    \n",
    "    for pos in path:\n",
    "        if(maze_copy[pos[0],pos[1]] == \" \"):\n",
    "            maze_copy[pos[0],pos[1]] = \"P\"\n",
    "           \n",
    "    for pos in reached:\n",
    "        if (maze_copy[pos[0],pos[1]] == \" \"):\n",
    "            maze_copy[pos[0],pos[1]] = \".\"\n",
    "            \n",
    "    show_maze(maze_copy)"
   ]
  },
  {
   "cell_type": "markdown",
   "metadata": {},
   "source": [
    "### Heuristics\n",
    "Below will be the heuristic functions used when making decisions"
   ]
  },
  {
   "cell_type": "code",
   "execution_count": 41,
   "metadata": {},
   "outputs": [],
   "source": [
    "# finds path length to given node n\n",
    "def g(n):\n",
    "    return(len(obtain_path(n))-1)"
   ]
  },
  {
   "cell_type": "code",
   "execution_count": 42,
   "metadata": {},
   "outputs": [],
   "source": [
    "# finds manhattan distance\n",
    "def manhattan(pos1, pos2):\n",
    "    return(np.sum(np.abs(np.subtract(pos1,pos2))))"
   ]
  },
  {
   "cell_type": "code",
   "execution_count": 43,
   "metadata": {},
   "outputs": [],
   "source": [
    "# finds euclidean distance\n",
    "def euclidean(pos1, pos2):\n",
    "    return(np.sqrt(np.sum(np.square(np.subtract(pos1,pos2)))))"
   ]
  },
  {
   "cell_type": "code",
   "execution_count": 44,
   "metadata": {},
   "outputs": [],
   "source": [
    "# finds location with minimum move\n",
    "def min_move(x):\n",
    "    return(np.random.choice(np.where(x == np.amin(x))[0]))"
   ]
  },
  {
   "cell_type": "markdown",
   "metadata": {},
   "source": [
    "### Tree Search Function\n",
    "This function includes implementations for BFS, DFS, IDFS, GBFS Manhattan, and A* Manhattan"
   ]
  },
  {
   "cell_type": "code",
   "execution_count": 149,
   "metadata": {},
   "outputs": [],
   "source": [
    "def tree_search(maze, strat = \"BFS\", debug = False, visualize = False):\n",
    "    # obtain start and goal positions\n",
    "    start_pos = find_position(maze, \"S\")\n",
    "    end_pos = find_position(maze, \"G\")\n",
    "    \n",
    "    if(visualize):\n",
    "        maze_vis = np.copy(maze)\n",
    "        \n",
    "    # set start as root\n",
    "    root = Tree(data = start_pos)\n",
    "    # set up frontier list\n",
    "    frontier = []\n",
    "    frontier.append(root)\n",
    "    # set up reached list\n",
    "    reached = dict()\n",
    "    reached[tuple(root.data)] = root\n",
    "    # keep track of max variables\n",
    "    max_frontier = 0\n",
    "    max_depth = 0\n",
    "    # parameters for IDS\n",
    "    limit_depth_IDS = 0\n",
    "    # set current node to root since we are just starting\n",
    "    node = root\n",
    "    # loop until nothing left in frontier or goal is reached\n",
    "    while not (len(frontier) < 1):\n",
    "        # update max frontier size\n",
    "        if(len(frontier) > max_frontier):\n",
    "            max_frontier = len(frontier)\n",
    "            if(debug):\n",
    "                print(\"New Max Frontier Length: {}\".format(max_frontier))\n",
    "        if(debug):\n",
    "            print(\"Frontier: {}\".format([n.data for n in frontier]))\n",
    "        # choose how to move forward with frontier choice based on strategy\n",
    "        if(strat == \"BFS\"):\n",
    "            # FIFO - Wide\n",
    "            node = frontier.pop(0)\n",
    "        elif(strat == \"DFS\"):\n",
    "            # LIFO - Deep\n",
    "            node = frontier.pop(-1)\n",
    "        elif(strat == \"IDS\"):\n",
    "            # LIFO modified - will go deep until limit reached and then expand wide (see below)\n",
    "            node = frontier.pop(-1)\n",
    "        elif(strat == \"GBFSM\"):\n",
    "            h_n = [manhattan(n.data, end_pos) for n in frontier]\n",
    "            if(debug):\n",
    "                print(\"GBFS manhattan h(n): {}\".format(h_n))\n",
    "            node = frontier.pop(min_move(h_n))\n",
    "        elif(strat == \"A*M\"):\n",
    "            f_n = [g(n) + manhattan(n.data, end_pos) for n in frontier]\n",
    "            if(debug):\n",
    "                print(\"A* manhattan f(n): {}\".format(f_n))\n",
    "            node = frontier.pop(min_move(f_n))\n",
    "        else:\n",
    "            print(\"UNKNOWN STRATEGY!\")\n",
    "            return(None)\n",
    "        # check to see if reached goal state\n",
    "        if(check_square(maze, node.data) == \"G\"):\n",
    "            return({\n",
    "                \"path\": obtain_path(node),\n",
    "                \"reached\": reached.keys(),\n",
    "                \"max-frontier\": max_frontier,\n",
    "                \"max-depth\": max_depth\n",
    "            })\n",
    "        # if not reached goal state, expand chosen node\n",
    "        else:\n",
    "            if(debug):\n",
    "                print(\"Expanding node: {}\".format(node.data))\n",
    "            # if IDS and limit has been reached and frontier is empty, reset to root and increase limit by 1\n",
    "            #    otherwise, if limit has been reached and frontier still has values, check & expand on those\n",
    "            #    values\n",
    "            if(strat == \"IDS\"):\n",
    "                if((g(node) == limit_depth_IDS)):\n",
    "                    if(debug): \n",
    "                        print(\"LIMIT REACHED: \", g(node))\n",
    "                    if(len(frontier) == 0):\n",
    "                        root = Tree(data = start_pos)\n",
    "                        frontier = [root]\n",
    "                        reached = dict()\n",
    "                        reached[tuple(root.data)] = root\n",
    "                        if(visualize):\n",
    "                            maze_vis = np.copy(maze)\n",
    "                        limit_depth_IDS = limit_depth_IDS + 1\n",
    "                    continue\n",
    "            # go through list of available moves\n",
    "            for pos in available_moves(maze, node.data):\n",
    "                # if the available position is in the reached locations and is shorter path, dont add to frontier\n",
    "                #  prevents getting stuck in a rabbit hole\n",
    "                if(strat in [\"DFS\", \"GBFS-M\", \"GBFS-E\", \"IDS\"]):\n",
    "                    if(tuple(pos) in reached.keys()):\n",
    "                        if(g(reached[tuple(pos)]) <= g(node)+1):\n",
    "                            continue\n",
    "                elif(tuple(pos) in reached.keys()):\n",
    "                    continue\n",
    "                # if the available position has not already been added to frontier or is better\n",
    "                n = Tree(data = pos)\n",
    "                node.addChild(n)\n",
    "                if(g(n) > max_depth):\n",
    "                    max_depth = g(n)\n",
    "                    if(debug):\n",
    "                        print(\"New Max Depth: {}\".format(max_depth))\n",
    "                frontier.append(n)\n",
    "                reached[tuple(pos)] = n\n",
    "                if(visualize):\n",
    "                    maze_vis[pos[0], pos[1]] = \".\"\n",
    "            # prevents getting stuck in loops with IDS, this is because the algorithm may run\n",
    "            #   into another path when the limit has not been reached and due to the reached\n",
    "            #   dictionary, the algorithm will result in an empty frontier, exiting the search\n",
    "            if(strat == \"IDS\" and len(frontier) == 0):\n",
    "                root = Tree(data = start_pos)\n",
    "                frontier = [root]\n",
    "                reached = dict()\n",
    "                reached[tuple(root.data)] = root\n",
    "                if(visualize):\n",
    "                    maze_vis = np.copy(maze)\n",
    "                limit_depth_IDS = limit_depth_IDS + 1\n",
    "            \n",
    "            if(debug):\n",
    "                print(\"Adding {} to frontier list.\".format([n.data for n in node.getChildren()]))\n",
    "            \n",
    "            if(visualize):\n",
    "                # update visualization with path chosen\n",
    "                if(maze_vis[node.data[0], node.data[1]] == \".\"):\n",
    "                    maze_vis[node.data[0], node.data[1]] = \"P\"\n",
    "                show_maze(maze_vis)\n",
    "                \n",
    "    # always return at least something :-)            \n",
    "    return(None)"
   ]
  },
  {
   "cell_type": "code",
   "execution_count": 152,
   "metadata": {
    "scrolled": false
   },
   "outputs": [],
   "source": [
    "# function to nicely run a list of strategies\n",
    "def maze_runner(strategies):\n",
    "    print(\"_________________________________________________________________\\n\")\n",
    "    for cur_strat in strategies:\n",
    "        print(\"Strategy: {}\\n\".format(cur_strat))\n",
    "        for cur_maze in maze_names.keys():\n",
    "            maze = load_maze(cur_maze)\n",
    "            results = tree_search(maze, strat = cur_strat, debug = False, visualize = False)\n",
    "            print(\"Maze: {}\".format(cur_maze))\n",
    "            print(\"Path cost: {}\".format(len(results[\"path\"])-1))\n",
    "            print(\"Squares Explored: {}\".format(len(results[\"reached\"])))\n",
    "            print(\"Max Frontier: {}\".format(results[\"max-frontier\"]))\n",
    "            print(\"Max Depth: {}\".format(results[\"max-depth\"]))\n",
    "            show_path(maze, results[\"path\"], results[\"reached\"])\n",
    "        print(\"_________________________________________________________________\\n\")"
   ]
  },
  {
   "cell_type": "code",
   "execution_count": 154,
   "metadata": {
    "scrolled": true
   },
   "outputs": [
    {
     "name": "stdout",
     "output_type": "stream",
     "text": [
      "_________________________________________________________________\n",
      "\n",
      "Strategy: BFS\n",
      "\n",
      "Maze: small\n",
      "Path cost: 19\n",
      "Squares Explored: 93\n",
      "Max Frontier: 8\n",
      "Max Depth: 19\n"
     ]
    },
    {
     "data": {
      "image/png": "[encoded data removed]",
      "text/plain": [
       "<Figure size 432x288 with 1 Axes>"
      ]
     },
     "metadata": {
      "needs_background": "light"
     },
     "output_type": "display_data"
    },
    {
     "name": "stdout",
     "output_type": "stream",
     "text": [
      "Maze: medium\n",
      "Path cost: 68\n",
      "Squares Explored: 272\n",
      "Max Frontier: 9\n",
      "Max Depth: 69\n"
     ]
    },
    {
     "data": {
      "image/png": "[encoded data removed]",
      "text/plain": [
       "<Figure size 432x288 with 1 Axes>"
      ]
     },
     "metadata": {
      "needs_background": "light"
     },
     "output_type": "display_data"
    },
    {
     "name": "stdout",
     "output_type": "stream",
     "text": [
      "Maze: large\n",
      "Path cost: 210\n",
      "Squares Explored: 625\n",
      "Max Frontier: 9\n",
      "Max Depth: 211\n"
     ]
    },
    {
     "data": {
      "image/png": "[encoded data removed]",
      "text/plain": [
       "<Figure size 432x288 with 1 Axes>"
      ]
     },
     "metadata": {
      "needs_background": "light"
     },
     "output_type": "display_data"
    },
    {
     "name": "stdout",
     "output_type": "stream",
     "text": [
      "Maze: open\n",
      "Path cost: 54\n",
      "Squares Explored: 684\n",
      "Max Frontier: 25\n",
      "Max Depth: 54\n"
     ]
    },
    {
     "data": {
      "image/png": "[encoded data removed]",
      "text/plain": [
       "<Figure size 432x288 with 1 Axes>"
      ]
     },
     "metadata": {
      "needs_background": "light"
     },
     "output_type": "display_data"
    },
    {
     "name": "stdout",
     "output_type": "stream",
     "text": [
      "Maze: empty\n",
      "Path cost: 14\n",
      "Squares Explored: 98\n",
      "Max Frontier: 12\n",
      "Max Depth: 15\n"
     ]
    },
    {
     "data": {
      "image/png": "[encoded data removed]",
      "text/plain": [
       "<Figure size 432x288 with 1 Axes>"
      ]
     },
     "metadata": {
      "needs_background": "light"
     },
     "output_type": "display_data"
    },
    {
     "name": "stdout",
     "output_type": "stream",
     "text": [
      "Maze: wall\n",
      "Path cost: 14\n",
      "Squares Explored: 91\n",
      "Max Frontier: 10\n",
      "Max Depth: 15\n"
     ]
    },
    {
     "data": {
      "image/png": "[encoded data removed]",
      "text/plain": [
       "<Figure size 432x288 with 1 Axes>"
      ]
     },
     "metadata": {
      "needs_background": "light"
     },
     "output_type": "display_data"
    },
    {
     "name": "stdout",
     "output_type": "stream",
     "text": [
      "Maze: loops\n",
      "Path cost: 23\n",
      "Squares Explored: 72\n",
      "Max Frontier: 8\n",
      "Max Depth: 23\n"
     ]
    },
    {
     "data": {
      "image/png": "[encoded data removed]",
      "text/plain": [
       "<Figure size 432x288 with 1 Axes>"
      ]
     },
     "metadata": {
      "needs_background": "light"
     },
     "output_type": "display_data"
    },
    {
     "name": "stdout",
     "output_type": "stream",
     "text": [
      "_________________________________________________________________\n",
      "\n",
      "Strategy: DFS\n",
      "\n",
      "Maze: small\n",
      "Path cost: 29\n",
      "Squares Explored: 77\n",
      "Max Frontier: 6\n",
      "Max Depth: 48\n"
     ]
    },
    {
     "data": {
      "image/png": "[encoded data removed]",
      "text/plain": [
       "<Figure size 432x288 with 1 Axes>"
      ]
     },
     "metadata": {
      "needs_background": "light"
     },
     "output_type": "display_data"
    },
    {
     "name": "stdout",
     "output_type": "stream",
     "text": [
      "Maze: medium\n",
      "Path cost: 74\n",
      "Squares Explored: 82\n",
      "Max Frontier: 7\n",
      "Max Depth: 74\n"
     ]
    },
    {
     "data": {
      "image/png": "[encoded data removed]",
      "text/plain": [
       "<Figure size 432x288 with 1 Axes>"
      ]
     },
     "metadata": {
      "needs_background": "light"
     },
     "output_type": "display_data"
    },
    {
     "name": "stdout",
     "output_type": "stream",
     "text": [
      "Maze: large\n",
      "Path cost: 210\n",
      "Squares Explored: 443\n",
      "Max Frontier: 33\n",
      "Max Depth: 214\n"
     ]
    },
    {
     "data": {
      "image/png": "[encoded data removed]",
      "text/plain": [
       "<Figure size 432x288 with 1 Axes>"
      ]
     },
     "metadata": {
      "needs_background": "light"
     },
     "output_type": "display_data"
    },
    {
     "name": "stdout",
     "output_type": "stream",
     "text": [
      "Maze: open\n",
      "Path cost: 120\n",
      "Squares Explored: 268\n",
      "Max Frontier: 122\n",
      "Max Depth: 122\n"
     ]
    },
    {
     "data": {
      "image/png": "[encoded data removed]",
      "text/plain": [
       "<Figure size 432x288 with 1 Axes>"
      ]
     },
     "metadata": {
      "needs_background": "light"
     },
     "output_type": "display_data"
    },
    {
     "name": "stdout",
     "output_type": "stream",
     "text": [
      "Maze: empty\n",
      "Path cost: 24\n",
      "Squares Explored: 100\n",
      "Max Frontier: 34\n",
      "Max Depth: 36\n"
     ]
    },
    {
     "data": {
      "image/png": "[encoded data removed]",
      "text/plain": [
       "<Figure size 432x288 with 1 Axes>"
      ]
     },
     "metadata": {
      "needs_background": "light"
     },
     "output_type": "display_data"
    },
    {
     "name": "stdout",
     "output_type": "stream",
     "text": [
      "Maze: wall\n",
      "Path cost: 28\n",
      "Squares Explored: 91\n",
      "Max Frontier: 33\n",
      "Max Depth: 49\n"
     ]
    },
    {
     "data": {
      "image/png": "[encoded data removed]",
      "text/plain": [
       "<Figure size 432x288 with 1 Axes>"
      ]
     },
     "metadata": {
      "needs_background": "light"
     },
     "output_type": "display_data"
    },
    {
     "name": "stdout",
     "output_type": "stream",
     "text": [
      "Maze: loops\n",
      "Path cost: 29\n",
      "Squares Explored: 66\n",
      "Max Frontier: 10\n",
      "Max Depth: 29\n"
     ]
    },
    {
     "data": {
      "image/png": "[encoded data removed]",
      "text/plain": [
       "<Figure size 432x288 with 1 Axes>"
      ]
     },
     "metadata": {
      "needs_background": "light"
     },
     "output_type": "display_data"
    },
    {
     "name": "stdout",
     "output_type": "stream",
     "text": [
      "_________________________________________________________________\n",
      "\n",
      "Strategy: IDS\n",
      "\n",
      "Maze: small\n",
      "Path cost: 19\n",
      "Squares Explored: 58\n",
      "Max Frontier: 7\n",
      "Max Depth: 20\n"
     ]
    },
    {
     "data": {
      "image/png": "[encoded data removed]",
      "text/plain": [
       "<Figure size 432x288 with 1 Axes>"
      ]
     },
     "metadata": {
      "needs_background": "light"
     },
     "output_type": "display_data"
    },
    {
     "name": "stdout",
     "output_type": "stream",
     "text": [
      "Maze: medium\n",
      "Path cost: 68\n",
      "Squares Explored: 225\n",
      "Max Frontier: 9\n",
      "Max Depth: 69\n"
     ]
    },
    {
     "data": {
      "image/png": "[encoded data removed]",
      "text/plain": [
       "<Figure size 432x288 with 1 Axes>"
      ]
     },
     "metadata": {
      "needs_background": "light"
     },
     "output_type": "display_data"
    },
    {
     "name": "stdout",
     "output_type": "stream",
     "text": [
      "Maze: large\n",
      "Path cost: 210\n",
      "Squares Explored: 517\n",
      "Max Frontier: 42\n",
      "Max Depth: 211\n"
     ]
    },
    {
     "data": {
      "image/png": "[encoded data removed]",
      "text/plain": [
       "<Figure size 432x288 with 1 Axes>"
      ]
     },
     "metadata": {
      "needs_background": "light"
     },
     "output_type": "display_data"
    },
    {
     "name": "stdout",
     "output_type": "stream",
     "text": [
      "Maze: open\n",
      "Path cost: 54\n",
      "Squares Explored: 683\n",
      "Max Frontier: 64\n",
      "Max Depth: 55\n"
     ]
    },
    {
     "data": {
      "image/png": "[encoded data removed]",
      "text/plain": [
       "<Figure size 432x288 with 1 Axes>"
      ]
     },
     "metadata": {
      "needs_background": "light"
     },
     "output_type": "display_data"
    },
    {
     "name": "stdout",
     "output_type": "stream",
     "text": [
      "Maze: empty\n",
      "Path cost: 14\n",
      "Squares Explored: 97\n",
      "Max Frontier: 19\n",
      "Max Depth: 15\n"
     ]
    },
    {
     "data": {
      "image/png": "[encoded data removed]",
      "text/plain": [
       "<Figure size 432x288 with 1 Axes>"
      ]
     },
     "metadata": {
      "needs_background": "light"
     },
     "output_type": "display_data"
    },
    {
     "name": "stdout",
     "output_type": "stream",
     "text": [
      "Maze: wall\n",
      "Path cost: 14\n",
      "Squares Explored: 90\n",
      "Max Frontier: 16\n",
      "Max Depth: 15\n"
     ]
    },
    {
     "data": {
      "image/png": "[encoded data removed]",
      "text/plain": [
       "<Figure size 432x288 with 1 Axes>"
      ]
     },
     "metadata": {
      "needs_background": "light"
     },
     "output_type": "display_data"
    },
    {
     "name": "stdout",
     "output_type": "stream",
     "text": [
      "Maze: loops\n",
      "Path cost: 23\n",
      "Squares Explored: 71\n",
      "Max Frontier: 11\n",
      "Max Depth: 24\n"
     ]
    },
    {
     "data": {
      "image/png": "[encoded data removed]",
      "text/plain": [
       "<Figure size 432x288 with 1 Axes>"
      ]
     },
     "metadata": {
      "needs_background": "light"
     },
     "output_type": "display_data"
    },
    {
     "name": "stdout",
     "output_type": "stream",
     "text": [
      "_________________________________________________________________\n",
      "\n"
     ]
    }
   ],
   "source": [
    "# running algorithm for BFS, DFS, and IDS\n",
    "strategies = [\"BFS\", \"DFS\", \"IDS\"]\n",
    "maze_runner(strategies)"
   ]
  },
  {
   "cell_type": "markdown",
   "metadata": {},
   "source": [
    "Are your implementations complete and optimal? Explain why. What is the time and space complexity of each?"
   ]
  },
  {
   "cell_type": "markdown",
   "metadata": {},
   "source": [
    "- __BFS__\n",
    "\n",
    "    Is it complete? Yes, the BFS searching strategy as implemented in our case is complete. This is because it will always find a solution eventually and does so by going down one level in search and expanding all nodes on that level before moving to the next level.\n",
    "\n",
    "    Is is optimal? Yes, BFS will always find the same cost of a given problem regardless of however many iterations are run. It will always find the best solution but may end up searching the whole maze in doing so.\n",
    "\n",
    "    What is the time complexity? The time complexity of BFS is $O(b^{d})$ with b corresponding to the branching factor and d corresponding to the depth. This is because at each level of depth, the associated search tree generated b nodes. Thus the root generates b nodes followed by the second level that generates b nodes again for a total of $b^2$. This pattern continues and can be shown by the equation $b + b^2 + b^3 + ... + b^d = O(b^d)$.\n",
    "\n",
    "    What is the space complexity? The space complexity of BFS is also $O(b^{d})$ with b corresponding to the branching factor and d corresponding to the depth. The explanation for this can be seen above as the time and space complexities are the same.\n",
    "\n",
    "    \n",
    "- __DFS__\n",
    "\n",
    "    Is it complete? Yes and no, for tree searching problems in order for DFS to be complete, it must be slightly altered so that it doesnt get stuck in Arad-Sibiu loops by checking new states against what has already been covered. This prevents it from running infinite loops but only in a finite state spaces, if the state space is not finite it will fall victim to looping. Additionally, this modification does not prevent against the proliferation of redundant paths either. For this purposes of this lab it will be complete.\n",
    "\n",
    "    Is is optimal? No, DFS is not optimal because it will simply return the first path that reaches its goal. It most cases it will just keep going down one path and regardless of step cost, if it finds a solution at the end it will not explore the other options and mark that path as the solution.\n",
    "\n",
    "    What is the time complexity? The time complexity of DFS is $O(b^m)$ where b corresponds to the branching factor and m corresponds to the max depth of any node. This is because like BFS, DFS would have an equation that looks like $1 + b + b^2 + b^3 + ... + b^m = O(b^m)$ where $b^m$ is the deepest node of the tree.\n",
    "\n",
    "    What is the space complexity? The space complexity of DFS $O(bm)$ where b corresponds to the branching factor and m corresponds to the max depth of any node. This is because, DFS only stores a single path from the root node to the leaf node along with any unexpanded sibling nodes for each node on the path. We only need to store, b nodes for each of the m nodes down a given branch resulting in $O(bm)$.\n",
    "\n",
    "\n",
    "- __IDS__\n",
    "\n",
    "    Is it complete? Yes, the IDS searching strategy as implemented in our case is complete. This is because it will always find a solution as long as the branching factor is finite.\n",
    "\n",
    "    Is is optimal? Yes, IDS will be optimal in finding a solution so long as the path cost is a nondecreasing function of the depth of the node. Each step has the same cost of 1 here. IDS takes strategies from both BFS and DFS which attributes to why it seems similar.\n",
    "\n",
    "    What is the time complexity? The time complexity of IDS is $O(b^d)$ where b corresponds to the branching factor and d corresponds to the max depth of any node. This time complexity is very similar to BFS due to the fact that it is a hybrid of BFS and DFS. The nodes at the bottom level (depth d) are generated once with the ones on the next level up being generated twice and so on so forth till it reaches the children of the root where they are generated d times. Thus our equation is as follows: $(d)b + (d-1)b^2 + ... + (1)b^d = O(b^d)$ which results to be the same as BFS.\n",
    "\n",
    "    What is the space complexity? The space complexity of IDS is $O(bd)$ where b corresponds to the branching factor and d corresponds to the depth of the solution. This is actually better than DFS. This space complexity can be attributed to the limited deepening factor that is set forth by the algorithm. It will only perform DFS to a certain limit before it employs BFS to search at that limit. The result is many iterations of the algorithm due to the need of restarts once a depth limit is reached.\n"
   ]
  },
  {
   "cell_type": "markdown",
   "metadata": {},
   "source": [
    "## Task 3: Greedy best-first search [2 points]\n",
    "\n",
    "You can use the map to estimate the distance from your current position to the goal using the Manhattan distance (see https://en.wikipedia.org/wiki/Taxicab_geometry) as a heuristic function."
   ]
  },
  {
   "cell_type": "code",
   "execution_count": 106,
   "metadata": {
    "scrolled": true
   },
   "outputs": [
    {
     "name": "stdout",
     "output_type": "stream",
     "text": [
      "_________________________________________________________________\n",
      "\n",
      "Strategy: GBFSM\n",
      "\n",
      "Maze: small\n",
      "Path cost: 29\n",
      "Squares Explored: 44\n",
      "Max Frontier: 5\n",
      "Max Depth: 29\n"
     ]
    },
    {
     "data": {
      "image/png": "[encoded data removed]",
      "text/plain": [
       "<Figure size 432x288 with 1 Axes>"
      ]
     },
     "metadata": {
      "needs_background": "light"
     },
     "output_type": "display_data"
    },
    {
     "name": "stdout",
     "output_type": "stream",
     "text": [
      "Maze: medium\n",
      "Path cost: 74\n",
      "Squares Explored: 82\n",
      "Max Frontier: 4\n",
      "Max Depth: 74\n"
     ]
    },
    {
     "data": {
      "image/png": "[encoded data removed]",
      "text/plain": [
       "<Figure size 432x288 with 1 Axes>"
      ]
     },
     "metadata": {
      "needs_background": "light"
     },
     "output_type": "display_data"
    },
    {
     "name": "stdout",
     "output_type": "stream",
     "text": [
      "Maze: large\n",
      "Path cost: 210\n",
      "Squares Explored: 483\n",
      "Max Frontier: 23\n",
      "Max Depth: 210\n"
     ]
    },
    {
     "data": {
      "image/png": "[encoded data removed]",
      "text/plain": [
       "<Figure size 432x288 with 1 Axes>"
      ]
     },
     "metadata": {
      "needs_background": "light"
     },
     "output_type": "display_data"
    },
    {
     "name": "stdout",
     "output_type": "stream",
     "text": [
      "Maze: open\n",
      "Path cost: 68\n",
      "Squares Explored: 166\n",
      "Max Frontier: 83\n",
      "Max Depth: 68\n"
     ]
    },
    {
     "data": {
      "image/png": "[encoded data removed]",
      "text/plain": [
       "<Figure size 432x288 with 1 Axes>"
      ]
     },
     "metadata": {
      "needs_background": "light"
     },
     "output_type": "display_data"
    },
    {
     "name": "stdout",
     "output_type": "stream",
     "text": [
      "Maze: empty\n",
      "Path cost: 14\n",
      "Squares Explored: 43\n",
      "Max Frontier: 29\n",
      "Max Depth: 14\n"
     ]
    },
    {
     "data": {
      "image/png": "[encoded data removed]",
      "text/plain": [
       "<Figure size 432x288 with 1 Axes>"
      ]
     },
     "metadata": {
      "needs_background": "light"
     },
     "output_type": "display_data"
    },
    {
     "name": "stdout",
     "output_type": "stream",
     "text": [
      "Maze: wall\n",
      "Path cost: 14\n",
      "Squares Explored: 44\n",
      "Max Frontier: 26\n",
      "Max Depth: 14\n"
     ]
    },
    {
     "data": {
      "image/png": "[encoded data removed]",
      "text/plain": [
       "<Figure size 432x288 with 1 Axes>"
      ]
     },
     "metadata": {
      "needs_background": "light"
     },
     "output_type": "display_data"
    },
    {
     "name": "stdout",
     "output_type": "stream",
     "text": [
      "Maze: loops\n",
      "Path cost: 23\n",
      "Squares Explored: 60\n",
      "Max Frontier: 9\n",
      "Max Depth: 23\n"
     ]
    },
    {
     "data": {
      "image/png": "[encoded data removed]",
      "text/plain": [
       "<Figure size 432x288 with 1 Axes>"
      ]
     },
     "metadata": {
      "needs_background": "light"
     },
     "output_type": "display_data"
    },
    {
     "name": "stdout",
     "output_type": "stream",
     "text": [
      "_________________________________________________________________\n",
      "\n"
     ]
    }
   ],
   "source": [
    "strategies = [\"GBFSM\"]\n",
    "\n",
    "maze_runner(strategies)"
   ]
  },
  {
   "cell_type": "markdown",
   "metadata": {},
   "source": [
    "Is this implementation complete and optimal? What is the time and space complexity?"
   ]
  },
  {
   "cell_type": "markdown",
   "metadata": {},
   "source": [
    "Is it complete? The Greedy Best First Search (GBFS) is not complete in most cases as it tends to get stuck in loops or revisits nodes. However, in our case it actually is complete and this is due to the fact that we keep track of what nodes that we have already reached when seaching.\n",
    "\n",
    "Is is optimal? GBFS is not optimal either due to the fact that at each step all it tries to do is reach the goal state by moving in the direction of it. It does not take into account anything that may be blocking its path and can take a not so good solution sometimes.\n",
    "\n",
    "What is the time complexity? GBFS has a worst and best case time complexity. For worst case, it's time complexity will be $O(b^m)$ where b is the branching factor and m is the max depth searched. This time complexity is actually comparable to DFS as seen above. However, for the best case, it's time complexity can be reduced to $O(bd)$ where b is the branching factor and d is the depth of the optimal solution found. This would require a really good heuristic function that is near perfect in determining the cost associated between two nodes.\n",
    "\n",
    "What is the space complexity? Just like the time complexity, GBFS has a worst and best case time complexity and they happen to be the same too. For worst case, it's time complexity will be $O(b^m)$ where b is the branching factor and m is the max depth searched. For best case, it's time complexity will be $O(bd)$ where b is the branching factor and d is the depth of the optimal solution found. As mentioned above, this would require a really good heuristic function that is near perfect in determining the cost associated between two nodes.\n"
   ]
  },
  {
   "cell_type": "markdown",
   "metadata": {},
   "source": [
    "## Task 4: A* Search [3 points]\n",
    "\n",
    "Use again the Manhattan heuristic function."
   ]
  },
  {
   "cell_type": "code",
   "execution_count": 107,
   "metadata": {
    "scrolled": true
   },
   "outputs": [
    {
     "name": "stdout",
     "output_type": "stream",
     "text": [
      "_________________________________________________________________\n",
      "\n",
      "Strategy: A*M\n",
      "\n",
      "Maze: small\n",
      "Path cost: 19\n",
      "Squares Explored: 53\n",
      "Max Frontier: 8\n",
      "Max Depth: 19\n"
     ]
    },
    {
     "data": {
      "image/png": "[encoded data removed]",
      "text/plain": [
       "<Figure size 432x288 with 1 Axes>"
      ]
     },
     "metadata": {
      "needs_background": "light"
     },
     "output_type": "display_data"
    },
    {
     "name": "stdout",
     "output_type": "stream",
     "text": [
      "Maze: medium\n",
      "Path cost: 68\n",
      "Squares Explored: 228\n",
      "Max Frontier: 8\n",
      "Max Depth: 68\n"
     ]
    },
    {
     "data": {
      "image/png": "[encoded data removed]",
      "text/plain": [
       "<Figure size 432x288 with 1 Axes>"
      ]
     },
     "metadata": {
      "needs_background": "light"
     },
     "output_type": "display_data"
    },
    {
     "name": "stdout",
     "output_type": "stream",
     "text": [
      "Maze: large\n",
      "Path cost: 210\n",
      "Squares Explored: 557\n",
      "Max Frontier: 12\n",
      "Max Depth: 210\n"
     ]
    },
    {
     "data": {
      "image/png": "[encoded data removed]",
      "text/plain": [
       "<Figure size 432x288 with 1 Axes>"
      ]
     },
     "metadata": {
      "needs_background": "light"
     },
     "output_type": "display_data"
    },
    {
     "name": "stdout",
     "output_type": "stream",
     "text": [
      "Maze: open\n",
      "Path cost: 54\n",
      "Squares Explored: 377\n",
      "Max Frontier: 98\n",
      "Max Depth: 54\n"
     ]
    },
    {
     "data": {
      "image/png": "[encoded data removed]",
      "text/plain": [
       "<Figure size 432x288 with 1 Axes>"
      ]
     },
     "metadata": {
      "needs_background": "light"
     },
     "output_type": "display_data"
    },
    {
     "name": "stdout",
     "output_type": "stream",
     "text": [
      "Maze: empty\n",
      "Path cost: 14\n",
      "Squares Explored: 70\n",
      "Max Frontier: 30\n",
      "Max Depth: 14\n"
     ]
    },
    {
     "data": {
      "image/png": "[encoded data removed]",
      "text/plain": [
       "<Figure size 432x288 with 1 Axes>"
      ]
     },
     "metadata": {
      "needs_background": "light"
     },
     "output_type": "display_data"
    },
    {
     "name": "stdout",
     "output_type": "stream",
     "text": [
      "Maze: wall\n",
      "Path cost: 14\n",
      "Squares Explored: 82\n",
      "Max Frontier: 35\n",
      "Max Depth: 14\n"
     ]
    },
    {
     "data": {
      "image/png": "[encoded data removed]",
      "text/plain": [
       "<Figure size 432x288 with 1 Axes>"
      ]
     },
     "metadata": {
      "needs_background": "light"
     },
     "output_type": "display_data"
    },
    {
     "name": "stdout",
     "output_type": "stream",
     "text": [
      "Maze: loops\n",
      "Path cost: 23\n",
      "Squares Explored: 61\n",
      "Max Frontier: 9\n",
      "Max Depth: 23\n"
     ]
    },
    {
     "data": {
      "image/png": "[encoded data removed]",
      "text/plain": [
       "<Figure size 432x288 with 1 Axes>"
      ]
     },
     "metadata": {
      "needs_background": "light"
     },
     "output_type": "display_data"
    },
    {
     "name": "stdout",
     "output_type": "stream",
     "text": [
      "_________________________________________________________________\n",
      "\n"
     ]
    }
   ],
   "source": [
    "strategies = [\"A*M\"]\n",
    "\n",
    "maze_runner(strategies)"
   ]
  },
  {
   "cell_type": "markdown",
   "metadata": {},
   "source": [
    "Is this implementation complete and optimal? What is the time and space complexity?"
   ]
  },
  {
   "cell_type": "markdown",
   "metadata": {},
   "source": [
    "Is it complete? Yes, A* is complete so long as the provided heuristic function satisfies a certain condition in tree-based search. This condition is that the heuristic function must be admissible, this means that it will never overestimate the cost to reach the goal. Additionally, there must be some finite number of nodes in the search space.\n",
    "\n",
    "Is is optimal? Yes, A* is also optimal due to the same reason that it is complete. So long as the heuristic function is admissible in its nature, A* should return the optimal result. \n",
    "\n",
    "What is the time and space complexity? The time and space complexity of A* will be exponential in most cases, although it is entirely dependent on the heuristic function. This can be seen by the following equation for a tree-based search $O(b^{(h^* - h)})$ where b is the branching factor, $h^*$ is the actual cost of getting from the root to the goal, and h is the estimated cost of getting to the goal. This eventually simplifies down to $O(b^d)$ where d is the depth of the solution and b is the branching factor. Thus this implies an exponential time complexity."
   ]
  },
  {
   "cell_type": "markdown",
   "metadata": {},
   "source": [
    "### Tables of Data"
   ]
  },
  {
   "cell_type": "markdown",
   "metadata": {},
   "source": [
    "Don't forget to add a table that compares the following for the algorithms on the different mazes:\n",
    "\n",
    "* The solution and its path cost\n",
    "* Number of nodes expanded\n",
    "* Maximum tree depth searched\n",
    "* Maximum size of the frontier."
   ]
  },
  {
   "cell_type": "code",
   "execution_count": 199,
   "metadata": {
    "scrolled": false
   },
   "outputs": [
    {
     "name": "stdout",
     "output_type": "stream",
     "text": [
      "Current Maze: small\n"
     ]
    },
    {
     "data": {
      "text/html": [
       "<div>\n",
       "<style scoped>\n",
       "    .dataframe tbody tr th:only-of-type {\n",
       "        vertical-align: middle;\n",
       "    }\n",
       "\n",
       "    .dataframe tbody tr th {\n",
       "        vertical-align: top;\n",
       "    }\n",
       "\n",
       "    .dataframe thead th {\n",
       "        text-align: right;\n",
       "    }\n",
       "</style>\n",
       "<table border=\"1\" class=\"dataframe\">\n",
       "  <thead>\n",
       "    <tr style=\"text-align: right;\">\n",
       "      <th></th>\n",
       "      <th>Strategy</th>\n",
       "      <th>Path Cost</th>\n",
       "      <th>Squares Explored</th>\n",
       "      <th>Max Frontier Size</th>\n",
       "      <th>Max Depth</th>\n",
       "    </tr>\n",
       "  </thead>\n",
       "  <tbody>\n",
       "    <tr>\n",
       "      <th>0</th>\n",
       "      <td>BFS</td>\n",
       "      <td>19.0</td>\n",
       "      <td>93.0</td>\n",
       "      <td>9.0</td>\n",
       "      <td>19.0</td>\n",
       "    </tr>\n",
       "    <tr>\n",
       "      <th>1</th>\n",
       "      <td>DFS</td>\n",
       "      <td>49.0</td>\n",
       "      <td>85.0</td>\n",
       "      <td>6.0</td>\n",
       "      <td>49.0</td>\n",
       "    </tr>\n",
       "    <tr>\n",
       "      <th>2</th>\n",
       "      <td>IDS</td>\n",
       "      <td>19.0</td>\n",
       "      <td>47.0</td>\n",
       "      <td>7.0</td>\n",
       "      <td>20.0</td>\n",
       "    </tr>\n",
       "    <tr>\n",
       "      <th>3</th>\n",
       "      <td>GBFSM</td>\n",
       "      <td>29.0</td>\n",
       "      <td>44.0</td>\n",
       "      <td>5.0</td>\n",
       "      <td>29.0</td>\n",
       "    </tr>\n",
       "    <tr>\n",
       "      <th>4</th>\n",
       "      <td>A*M</td>\n",
       "      <td>19.0</td>\n",
       "      <td>58.0</td>\n",
       "      <td>8.0</td>\n",
       "      <td>19.0</td>\n",
       "    </tr>\n",
       "  </tbody>\n",
       "</table>\n",
       "</div>"
      ],
      "text/plain": [
       "  Strategy  Path Cost  Squares Explored  Max Frontier Size  Max Depth\n",
       "0      BFS       19.0              93.0                9.0       19.0\n",
       "1      DFS       49.0              85.0                6.0       49.0\n",
       "2      IDS       19.0              47.0                7.0       20.0\n",
       "3    GBFSM       29.0              44.0                5.0       29.0\n",
       "4      A*M       19.0              58.0                8.0       19.0"
      ]
     },
     "metadata": {},
     "output_type": "display_data"
    },
    {
     "name": "stdout",
     "output_type": "stream",
     "text": [
      "Current Maze: medium\n"
     ]
    },
    {
     "data": {
      "text/html": [
       "<div>\n",
       "<style scoped>\n",
       "    .dataframe tbody tr th:only-of-type {\n",
       "        vertical-align: middle;\n",
       "    }\n",
       "\n",
       "    .dataframe tbody tr th {\n",
       "        vertical-align: top;\n",
       "    }\n",
       "\n",
       "    .dataframe thead th {\n",
       "        text-align: right;\n",
       "    }\n",
       "</style>\n",
       "<table border=\"1\" class=\"dataframe\">\n",
       "  <thead>\n",
       "    <tr style=\"text-align: right;\">\n",
       "      <th></th>\n",
       "      <th>Strategy</th>\n",
       "      <th>Path Cost</th>\n",
       "      <th>Squares Explored</th>\n",
       "      <th>Max Frontier Size</th>\n",
       "      <th>Max Depth</th>\n",
       "    </tr>\n",
       "  </thead>\n",
       "  <tbody>\n",
       "    <tr>\n",
       "      <th>0</th>\n",
       "      <td>BFS</td>\n",
       "      <td>68.0</td>\n",
       "      <td>272.0</td>\n",
       "      <td>9.0</td>\n",
       "      <td>69.0</td>\n",
       "    </tr>\n",
       "    <tr>\n",
       "      <th>1</th>\n",
       "      <td>DFS</td>\n",
       "      <td>74.0</td>\n",
       "      <td>82.0</td>\n",
       "      <td>7.0</td>\n",
       "      <td>74.0</td>\n",
       "    </tr>\n",
       "    <tr>\n",
       "      <th>2</th>\n",
       "      <td>IDS</td>\n",
       "      <td>68.0</td>\n",
       "      <td>273.0</td>\n",
       "      <td>8.0</td>\n",
       "      <td>69.0</td>\n",
       "    </tr>\n",
       "    <tr>\n",
       "      <th>3</th>\n",
       "      <td>GBFSM</td>\n",
       "      <td>74.0</td>\n",
       "      <td>82.0</td>\n",
       "      <td>4.0</td>\n",
       "      <td>74.0</td>\n",
       "    </tr>\n",
       "    <tr>\n",
       "      <th>4</th>\n",
       "      <td>A*M</td>\n",
       "      <td>68.0</td>\n",
       "      <td>228.0</td>\n",
       "      <td>8.0</td>\n",
       "      <td>68.0</td>\n",
       "    </tr>\n",
       "  </tbody>\n",
       "</table>\n",
       "</div>"
      ],
      "text/plain": [
       "  Strategy  Path Cost  Squares Explored  Max Frontier Size  Max Depth\n",
       "0      BFS       68.0             272.0                9.0       69.0\n",
       "1      DFS       74.0              82.0                7.0       74.0\n",
       "2      IDS       68.0             273.0                8.0       69.0\n",
       "3    GBFSM       74.0              82.0                4.0       74.0\n",
       "4      A*M       68.0             228.0                8.0       68.0"
      ]
     },
     "metadata": {},
     "output_type": "display_data"
    },
    {
     "name": "stdout",
     "output_type": "stream",
     "text": [
      "Current Maze: large\n"
     ]
    },
    {
     "data": {
      "text/html": [
       "<div>\n",
       "<style scoped>\n",
       "    .dataframe tbody tr th:only-of-type {\n",
       "        vertical-align: middle;\n",
       "    }\n",
       "\n",
       "    .dataframe tbody tr th {\n",
       "        vertical-align: top;\n",
       "    }\n",
       "\n",
       "    .dataframe thead th {\n",
       "        text-align: right;\n",
       "    }\n",
       "</style>\n",
       "<table border=\"1\" class=\"dataframe\">\n",
       "  <thead>\n",
       "    <tr style=\"text-align: right;\">\n",
       "      <th></th>\n",
       "      <th>Strategy</th>\n",
       "      <th>Path Cost</th>\n",
       "      <th>Squares Explored</th>\n",
       "      <th>Max Frontier Size</th>\n",
       "      <th>Max Depth</th>\n",
       "    </tr>\n",
       "  </thead>\n",
       "  <tbody>\n",
       "    <tr>\n",
       "      <th>0</th>\n",
       "      <td>BFS</td>\n",
       "      <td>210.0</td>\n",
       "      <td>623.0</td>\n",
       "      <td>8.0</td>\n",
       "      <td>210.0</td>\n",
       "    </tr>\n",
       "    <tr>\n",
       "      <th>1</th>\n",
       "      <td>DFS</td>\n",
       "      <td>210.0</td>\n",
       "      <td>420.0</td>\n",
       "      <td>39.0</td>\n",
       "      <td>210.0</td>\n",
       "    </tr>\n",
       "    <tr>\n",
       "      <th>2</th>\n",
       "      <td>IDS</td>\n",
       "      <td>210.0</td>\n",
       "      <td>482.0</td>\n",
       "      <td>42.0</td>\n",
       "      <td>211.0</td>\n",
       "    </tr>\n",
       "    <tr>\n",
       "      <th>3</th>\n",
       "      <td>GBFSM</td>\n",
       "      <td>210.0</td>\n",
       "      <td>486.0</td>\n",
       "      <td>22.0</td>\n",
       "      <td>210.0</td>\n",
       "    </tr>\n",
       "    <tr>\n",
       "      <th>4</th>\n",
       "      <td>A*M</td>\n",
       "      <td>210.0</td>\n",
       "      <td>556.0</td>\n",
       "      <td>12.0</td>\n",
       "      <td>210.0</td>\n",
       "    </tr>\n",
       "  </tbody>\n",
       "</table>\n",
       "</div>"
      ],
      "text/plain": [
       "  Strategy  Path Cost  Squares Explored  Max Frontier Size  Max Depth\n",
       "0      BFS      210.0             623.0                8.0      210.0\n",
       "1      DFS      210.0             420.0               39.0      210.0\n",
       "2      IDS      210.0             482.0               42.0      211.0\n",
       "3    GBFSM      210.0             486.0               22.0      210.0\n",
       "4      A*M      210.0             556.0               12.0      210.0"
      ]
     },
     "metadata": {},
     "output_type": "display_data"
    },
    {
     "name": "stdout",
     "output_type": "stream",
     "text": [
      "Current Maze: open\n"
     ]
    },
    {
     "data": {
      "text/html": [
       "<div>\n",
       "<style scoped>\n",
       "    .dataframe tbody tr th:only-of-type {\n",
       "        vertical-align: middle;\n",
       "    }\n",
       "\n",
       "    .dataframe tbody tr th {\n",
       "        vertical-align: top;\n",
       "    }\n",
       "\n",
       "    .dataframe thead th {\n",
       "        text-align: right;\n",
       "    }\n",
       "</style>\n",
       "<table border=\"1\" class=\"dataframe\">\n",
       "  <thead>\n",
       "    <tr style=\"text-align: right;\">\n",
       "      <th></th>\n",
       "      <th>Strategy</th>\n",
       "      <th>Path Cost</th>\n",
       "      <th>Squares Explored</th>\n",
       "      <th>Max Frontier Size</th>\n",
       "      <th>Max Depth</th>\n",
       "    </tr>\n",
       "  </thead>\n",
       "  <tbody>\n",
       "    <tr>\n",
       "      <th>0</th>\n",
       "      <td>BFS</td>\n",
       "      <td>54.0</td>\n",
       "      <td>684.0</td>\n",
       "      <td>25.0</td>\n",
       "      <td>54.0</td>\n",
       "    </tr>\n",
       "    <tr>\n",
       "      <th>1</th>\n",
       "      <td>DFS</td>\n",
       "      <td>126.0</td>\n",
       "      <td>276.0</td>\n",
       "      <td>138.0</td>\n",
       "      <td>126.0</td>\n",
       "    </tr>\n",
       "    <tr>\n",
       "      <th>2</th>\n",
       "      <td>IDS</td>\n",
       "      <td>54.0</td>\n",
       "      <td>683.0</td>\n",
       "      <td>68.0</td>\n",
       "      <td>55.0</td>\n",
       "    </tr>\n",
       "    <tr>\n",
       "      <th>3</th>\n",
       "      <td>GBFSM</td>\n",
       "      <td>64.0</td>\n",
       "      <td>161.0</td>\n",
       "      <td>72.0</td>\n",
       "      <td>64.0</td>\n",
       "    </tr>\n",
       "    <tr>\n",
       "      <th>4</th>\n",
       "      <td>A*M</td>\n",
       "      <td>54.0</td>\n",
       "      <td>391.0</td>\n",
       "      <td>72.0</td>\n",
       "      <td>54.0</td>\n",
       "    </tr>\n",
       "  </tbody>\n",
       "</table>\n",
       "</div>"
      ],
      "text/plain": [
       "  Strategy  Path Cost  Squares Explored  Max Frontier Size  Max Depth\n",
       "0      BFS       54.0             684.0               25.0       54.0\n",
       "1      DFS      126.0             276.0              138.0      126.0\n",
       "2      IDS       54.0             683.0               68.0       55.0\n",
       "3    GBFSM       64.0             161.0               72.0       64.0\n",
       "4      A*M       54.0             391.0               72.0       54.0"
      ]
     },
     "metadata": {},
     "output_type": "display_data"
    },
    {
     "name": "stdout",
     "output_type": "stream",
     "text": [
      "Current Maze: empty\n"
     ]
    },
    {
     "data": {
      "text/html": [
       "<div>\n",
       "<style scoped>\n",
       "    .dataframe tbody tr th:only-of-type {\n",
       "        vertical-align: middle;\n",
       "    }\n",
       "\n",
       "    .dataframe tbody tr th {\n",
       "        vertical-align: top;\n",
       "    }\n",
       "\n",
       "    .dataframe thead th {\n",
       "        text-align: right;\n",
       "    }\n",
       "</style>\n",
       "<table border=\"1\" class=\"dataframe\">\n",
       "  <thead>\n",
       "    <tr style=\"text-align: right;\">\n",
       "      <th></th>\n",
       "      <th>Strategy</th>\n",
       "      <th>Path Cost</th>\n",
       "      <th>Squares Explored</th>\n",
       "      <th>Max Frontier Size</th>\n",
       "      <th>Max Depth</th>\n",
       "    </tr>\n",
       "  </thead>\n",
       "  <tbody>\n",
       "    <tr>\n",
       "      <th>0</th>\n",
       "      <td>BFS</td>\n",
       "      <td>14.0</td>\n",
       "      <td>98.0</td>\n",
       "      <td>12.0</td>\n",
       "      <td>15.0</td>\n",
       "    </tr>\n",
       "    <tr>\n",
       "      <th>1</th>\n",
       "      <td>DFS</td>\n",
       "      <td>22.0</td>\n",
       "      <td>98.0</td>\n",
       "      <td>44.0</td>\n",
       "      <td>38.0</td>\n",
       "    </tr>\n",
       "    <tr>\n",
       "      <th>2</th>\n",
       "      <td>IDS</td>\n",
       "      <td>14.0</td>\n",
       "      <td>92.0</td>\n",
       "      <td>20.0</td>\n",
       "      <td>15.0</td>\n",
       "    </tr>\n",
       "    <tr>\n",
       "      <th>3</th>\n",
       "      <td>GBFSM</td>\n",
       "      <td>14.0</td>\n",
       "      <td>40.0</td>\n",
       "      <td>26.0</td>\n",
       "      <td>14.0</td>\n",
       "    </tr>\n",
       "    <tr>\n",
       "      <th>4</th>\n",
       "      <td>A*M</td>\n",
       "      <td>14.0</td>\n",
       "      <td>92.0</td>\n",
       "      <td>39.0</td>\n",
       "      <td>14.0</td>\n",
       "    </tr>\n",
       "  </tbody>\n",
       "</table>\n",
       "</div>"
      ],
      "text/plain": [
       "  Strategy  Path Cost  Squares Explored  Max Frontier Size  Max Depth\n",
       "0      BFS       14.0              98.0               12.0       15.0\n",
       "1      DFS       22.0              98.0               44.0       38.0\n",
       "2      IDS       14.0              92.0               20.0       15.0\n",
       "3    GBFSM       14.0              40.0               26.0       14.0\n",
       "4      A*M       14.0              92.0               39.0       14.0"
      ]
     },
     "metadata": {},
     "output_type": "display_data"
    },
    {
     "name": "stdout",
     "output_type": "stream",
     "text": [
      "Current Maze: wall\n"
     ]
    },
    {
     "data": {
      "text/html": [
       "<div>\n",
       "<style scoped>\n",
       "    .dataframe tbody tr th:only-of-type {\n",
       "        vertical-align: middle;\n",
       "    }\n",
       "\n",
       "    .dataframe tbody tr th {\n",
       "        vertical-align: top;\n",
       "    }\n",
       "\n",
       "    .dataframe thead th {\n",
       "        text-align: right;\n",
       "    }\n",
       "</style>\n",
       "<table border=\"1\" class=\"dataframe\">\n",
       "  <thead>\n",
       "    <tr style=\"text-align: right;\">\n",
       "      <th></th>\n",
       "      <th>Strategy</th>\n",
       "      <th>Path Cost</th>\n",
       "      <th>Squares Explored</th>\n",
       "      <th>Max Frontier Size</th>\n",
       "      <th>Max Depth</th>\n",
       "    </tr>\n",
       "  </thead>\n",
       "  <tbody>\n",
       "    <tr>\n",
       "      <th>0</th>\n",
       "      <td>BFS</td>\n",
       "      <td>14.0</td>\n",
       "      <td>91.0</td>\n",
       "      <td>10.0</td>\n",
       "      <td>15.0</td>\n",
       "    </tr>\n",
       "    <tr>\n",
       "      <th>1</th>\n",
       "      <td>DFS</td>\n",
       "      <td>36.0</td>\n",
       "      <td>87.0</td>\n",
       "      <td>36.0</td>\n",
       "      <td>45.0</td>\n",
       "    </tr>\n",
       "    <tr>\n",
       "      <th>2</th>\n",
       "      <td>IDS</td>\n",
       "      <td>14.0</td>\n",
       "      <td>90.0</td>\n",
       "      <td>18.0</td>\n",
       "      <td>15.0</td>\n",
       "    </tr>\n",
       "    <tr>\n",
       "      <th>3</th>\n",
       "      <td>GBFSM</td>\n",
       "      <td>18.0</td>\n",
       "      <td>47.0</td>\n",
       "      <td>25.0</td>\n",
       "      <td>18.0</td>\n",
       "    </tr>\n",
       "    <tr>\n",
       "      <th>4</th>\n",
       "      <td>A*M</td>\n",
       "      <td>14.0</td>\n",
       "      <td>80.0</td>\n",
       "      <td>31.0</td>\n",
       "      <td>14.0</td>\n",
       "    </tr>\n",
       "  </tbody>\n",
       "</table>\n",
       "</div>"
      ],
      "text/plain": [
       "  Strategy  Path Cost  Squares Explored  Max Frontier Size  Max Depth\n",
       "0      BFS       14.0              91.0               10.0       15.0\n",
       "1      DFS       36.0              87.0               36.0       45.0\n",
       "2      IDS       14.0              90.0               18.0       15.0\n",
       "3    GBFSM       18.0              47.0               25.0       18.0\n",
       "4      A*M       14.0              80.0               31.0       14.0"
      ]
     },
     "metadata": {},
     "output_type": "display_data"
    },
    {
     "name": "stdout",
     "output_type": "stream",
     "text": [
      "Current Maze: loops\n"
     ]
    },
    {
     "data": {
      "text/html": [
       "<div>\n",
       "<style scoped>\n",
       "    .dataframe tbody tr th:only-of-type {\n",
       "        vertical-align: middle;\n",
       "    }\n",
       "\n",
       "    .dataframe tbody tr th {\n",
       "        vertical-align: top;\n",
       "    }\n",
       "\n",
       "    .dataframe thead th {\n",
       "        text-align: right;\n",
       "    }\n",
       "</style>\n",
       "<table border=\"1\" class=\"dataframe\">\n",
       "  <thead>\n",
       "    <tr style=\"text-align: right;\">\n",
       "      <th></th>\n",
       "      <th>Strategy</th>\n",
       "      <th>Path Cost</th>\n",
       "      <th>Squares Explored</th>\n",
       "      <th>Max Frontier Size</th>\n",
       "      <th>Max Depth</th>\n",
       "    </tr>\n",
       "  </thead>\n",
       "  <tbody>\n",
       "    <tr>\n",
       "      <th>0</th>\n",
       "      <td>BFS</td>\n",
       "      <td>23.0</td>\n",
       "      <td>72.0</td>\n",
       "      <td>7.0</td>\n",
       "      <td>23.0</td>\n",
       "    </tr>\n",
       "    <tr>\n",
       "      <th>1</th>\n",
       "      <td>DFS</td>\n",
       "      <td>41.0</td>\n",
       "      <td>68.0</td>\n",
       "      <td>16.0</td>\n",
       "      <td>43.0</td>\n",
       "    </tr>\n",
       "    <tr>\n",
       "      <th>2</th>\n",
       "      <td>IDS</td>\n",
       "      <td>23.0</td>\n",
       "      <td>46.0</td>\n",
       "      <td>11.0</td>\n",
       "      <td>24.0</td>\n",
       "    </tr>\n",
       "    <tr>\n",
       "      <th>3</th>\n",
       "      <td>GBFSM</td>\n",
       "      <td>23.0</td>\n",
       "      <td>60.0</td>\n",
       "      <td>9.0</td>\n",
       "      <td>23.0</td>\n",
       "    </tr>\n",
       "    <tr>\n",
       "      <th>4</th>\n",
       "      <td>A*M</td>\n",
       "      <td>23.0</td>\n",
       "      <td>62.0</td>\n",
       "      <td>8.0</td>\n",
       "      <td>23.0</td>\n",
       "    </tr>\n",
       "  </tbody>\n",
       "</table>\n",
       "</div>"
      ],
      "text/plain": [
       "  Strategy  Path Cost  Squares Explored  Max Frontier Size  Max Depth\n",
       "0      BFS       23.0              72.0                7.0       23.0\n",
       "1      DFS       41.0              68.0               16.0       43.0\n",
       "2      IDS       23.0              46.0               11.0       24.0\n",
       "3    GBFSM       23.0              60.0                9.0       23.0\n",
       "4      A*M       23.0              62.0                8.0       23.0"
      ]
     },
     "metadata": {},
     "output_type": "display_data"
    }
   ],
   "source": [
    "import pandas as pd\n",
    "import matplotlib.pyplot as plt\n",
    "\n",
    "df_init = pd.DataFrame({'Strategy': [],'Path Cost': [],'Squares Explored': [],'Max Frontier Size': [],'Max Depth': []})\n",
    "\n",
    "strategies = [\"BFS\", \"DFS\", \"IDS\", \"GBFSM\", \"A*M\"]\n",
    "\n",
    "for cur_maze in maze_names.keys():\n",
    "    df = df_init\n",
    "    for cur_strat in strategies:\n",
    "        maze = load_maze(cur_maze)\n",
    "        results = tree_search(maze, strat = cur_strat, debug = False, visualize = False)\n",
    "        df = df.append({\n",
    "            'Strategy': cur_strat,\n",
    "            'Path Cost': (len(results[\"path\"])-1),\n",
    "            'Squares Explored': (len(results[\"reached\"])),\n",
    "            'Max Frontier Size': results[\"max-frontier\"],\n",
    "            'Max Depth': results[\"max-depth\"]\n",
    "        }, ignore_index=True)\n",
    "    print(\"Current Maze: {}\".format(cur_maze))\n",
    "    display(df)\n",
    "    \n",
    "    # I tried my very best to get this to graph but it always came out werid. :-(\n",
    "    #hist = df.hist(figsize = (15,5), bins= 40, layout=(1,4), grid=False)\n",
    "    "
   ]
  },
  {
   "cell_type": "markdown",
   "metadata": {},
   "source": [
    "## Bonus Tasks [+1 point]\n",
    "\n",
    "Instead of defining each square as a state (which you probably did), use only intersections as states. Now the storage requirement is reduced, but the path length between two intersections can be different. If we use total path length in number of squares as path cost, how can we make sure that BFS and iterative deepening search is optimal? Change the code to do so."
   ]
  },
  {
   "cell_type": "code",
   "execution_count": 11,
   "metadata": {},
   "outputs": [],
   "source": [
    "# Your code/answer goes here"
   ]
  },
  {
   "cell_type": "markdown",
   "metadata": {},
   "source": [
    "Modify your A* search to add weights (see text book) and explore how different weights influence the result."
   ]
  },
  {
   "cell_type": "code",
   "execution_count": 170,
   "metadata": {},
   "outputs": [],
   "source": [
    "def modified_astar(maze, weight = 5, debug = False, visualize = False):\n",
    "    # obtain start and goal positions\n",
    "    start_pos = find_position(maze, \"S\")\n",
    "    end_pos = find_position(maze, \"G\")\n",
    "    \n",
    "    if(visualize):\n",
    "        maze_vis = np.copy(maze)\n",
    "        \n",
    "    # set start as root\n",
    "    root = Tree(data = start_pos)\n",
    "    # set up frontier list\n",
    "    frontier = []\n",
    "    frontier.append(root)\n",
    "    # set up reached list\n",
    "    reached = dict()\n",
    "    reached[tuple(root.data)] = root\n",
    "    # keep track of max variables\n",
    "    max_frontier = 0\n",
    "    max_depth = 0\n",
    "    # parameters for IDS\n",
    "    limit_depth_IDS = 0\n",
    "    # set current node to root since we are just starting\n",
    "    node = root\n",
    "    # loop until nothing left in frontier or goal is reached\n",
    "    while not (len(frontier) < 1):\n",
    "        # update max frontier size\n",
    "        if(len(frontier) > max_frontier):\n",
    "            max_frontier = len(frontier)\n",
    "            if(debug):\n",
    "                print(\"New Max Frontier Length: {}\".format(max_frontier))\n",
    "        if(debug):\n",
    "            print(\"Frontier: {}\".format([n.data for n in frontier]))\n",
    "        # MODIFICATION --- here is where we apply the weight to the heuristic\n",
    "        f_n = [g(n) + (weight * manhattan(n.data, end_pos)) for n in frontier]\n",
    "        if(debug):\n",
    "            print(\"A* manhattan f(n): {}\".format(f_n))\n",
    "        node = frontier.pop(min_move(f_n))\n",
    "\n",
    "        # check to see if reached goal state\n",
    "        if(check_square(maze, node.data) == \"G\"):\n",
    "            return({\n",
    "                \"path\": obtain_path(node),\n",
    "                \"reached\": reached.keys(),\n",
    "                \"max-frontier\": max_frontier,\n",
    "                \"max-depth\": max_depth\n",
    "            })\n",
    "        # if not reached goal state, expand chosen node\n",
    "        else:\n",
    "            if(debug):\n",
    "                print(\"Expanding node: {}\".format(node.data))\n",
    "            # go through list of available moves\n",
    "            for pos in available_moves(maze, node.data):\n",
    "                if(tuple(pos) in reached.keys()):\n",
    "                    continue\n",
    "                # if the available position has not already been added to frontier or is better\n",
    "                n = Tree(data = pos)\n",
    "                node.addChild(n)\n",
    "                if(g(n) > max_depth):\n",
    "                    max_depth = g(n)\n",
    "                    if(debug):\n",
    "                        print(\"New Max Depth: {}\".format(max_depth))\n",
    "                frontier.append(n)\n",
    "                reached[tuple(pos)] = n\n",
    "                if(visualize):\n",
    "                    maze_vis[pos[0], pos[1]] = \".\"\n",
    "            if(debug):\n",
    "                print(\"Adding {} to frontier list.\".format([n.data for n in node.getChildren()]))\n",
    "            \n",
    "            if(visualize):\n",
    "                # update visualization with path chosen\n",
    "                if(maze_vis[node.data[0], node.data[1]] == \".\"):\n",
    "                    maze_vis[node.data[0], node.data[1]] = \"P\"\n",
    "                show_maze(maze_vis)\n",
    "                \n",
    "    # always return at least something :-)            \n",
    "    return(None)"
   ]
  },
  {
   "cell_type": "code",
   "execution_count": 176,
   "metadata": {
    "scrolled": false
   },
   "outputs": [
    {
     "name": "stdout",
     "output_type": "stream",
     "text": [
      "Maze: small\n",
      "Path cost: 29\n",
      "Squares Explored: 46\n",
      "Max Frontier: 5\n",
      "Max Depth: 29\n"
     ]
    },
    {
     "data": {
      "image/png": "[encoded data removed]",
      "text/plain": [
       "<Figure size 432x288 with 1 Axes>"
      ]
     },
     "metadata": {
      "needs_background": "light"
     },
     "output_type": "display_data"
    },
    {
     "name": "stdout",
     "output_type": "stream",
     "text": [
      "Maze: medium\n",
      "Path cost: 74\n",
      "Squares Explored: 82\n",
      "Max Frontier: 4\n",
      "Max Depth: 74\n"
     ]
    },
    {
     "data": {
      "image/png": "[encoded data removed]",
      "text/plain": [
       "<Figure size 432x288 with 1 Axes>"
      ]
     },
     "metadata": {
      "needs_background": "light"
     },
     "output_type": "display_data"
    },
    {
     "name": "stdout",
     "output_type": "stream",
     "text": [
      "Maze: large\n",
      "Path cost: 210\n",
      "Squares Explored: 499\n",
      "Max Frontier: 24\n",
      "Max Depth: 210\n"
     ]
    },
    {
     "data": {
      "image/png": "[encoded data removed]",
      "text/plain": [
       "<Figure size 432x288 with 1 Axes>"
      ]
     },
     "metadata": {
      "needs_background": "light"
     },
     "output_type": "display_data"
    },
    {
     "name": "stdout",
     "output_type": "stream",
     "text": [
      "Maze: open\n",
      "Path cost: 54\n",
      "Squares Explored: 155\n",
      "Max Frontier: 77\n",
      "Max Depth: 54\n"
     ]
    },
    {
     "data": {
      "image/png": "[encoded data removed]",
      "text/plain": [
       "<Figure size 432x288 with 1 Axes>"
      ]
     },
     "metadata": {
      "needs_background": "light"
     },
     "output_type": "display_data"
    },
    {
     "name": "stdout",
     "output_type": "stream",
     "text": [
      "Maze: empty\n",
      "Path cost: 14\n",
      "Squares Explored: 41\n",
      "Max Frontier: 27\n",
      "Max Depth: 14\n"
     ]
    },
    {
     "data": {
      "image/png": "[encoded data removed]",
      "text/plain": [
       "<Figure size 432x288 with 1 Axes>"
      ]
     },
     "metadata": {
      "needs_background": "light"
     },
     "output_type": "display_data"
    },
    {
     "name": "stdout",
     "output_type": "stream",
     "text": [
      "Maze: wall\n",
      "Path cost: 14\n",
      "Squares Explored: 40\n",
      "Max Frontier: 26\n",
      "Max Depth: 14\n"
     ]
    },
    {
     "data": {
      "image/png": "[encoded data removed]",
      "text/plain": [
       "<Figure size 432x288 with 1 Axes>"
      ]
     },
     "metadata": {
      "needs_background": "light"
     },
     "output_type": "display_data"
    },
    {
     "name": "stdout",
     "output_type": "stream",
     "text": [
      "Maze: loops\n",
      "Path cost: 23\n",
      "Squares Explored: 60\n",
      "Max Frontier: 9\n",
      "Max Depth: 23\n"
     ]
    },
    {
     "data": {
      "image/png": "[encoded data removed]",
      "text/plain": [
       "<Figure size 432x288 with 1 Axes>"
      ]
     },
     "metadata": {
      "needs_background": "light"
     },
     "output_type": "display_data"
    }
   ],
   "source": [
    "for cur_maze in maze_names.keys():\n",
    "    maze = load_maze(cur_maze)\n",
    "    results = modified_astar(maze, weight = 5, debug = False, visualize = False)\n",
    "    print(\"Maze: {}\".format(cur_maze))\n",
    "    print(\"Path cost: {}\".format(len(results[\"path\"])-1))\n",
    "    print(\"Squares Explored: {}\".format(len(results[\"reached\"])))\n",
    "    print(\"Max Frontier: {}\".format(results[\"max-frontier\"]))\n",
    "    print(\"Max Depth: {}\".format(results[\"max-depth\"]))\n",
    "    show_path(maze, results[\"path\"], results[\"reached\"])"
   ]
  },
  {
   "cell_type": "code",
   "execution_count": 180,
   "metadata": {},
   "outputs": [
    {
     "name": "stdout",
     "output_type": "stream",
     "text": [
      "Weight: 2\n"
     ]
    },
    {
     "data": {
      "text/html": [
       "<div>\n",
       "<style scoped>\n",
       "    .dataframe tbody tr th:only-of-type {\n",
       "        vertical-align: middle;\n",
       "    }\n",
       "\n",
       "    .dataframe tbody tr th {\n",
       "        vertical-align: top;\n",
       "    }\n",
       "\n",
       "    .dataframe thead th {\n",
       "        text-align: right;\n",
       "    }\n",
       "</style>\n",
       "<table border=\"1\" class=\"dataframe\">\n",
       "  <thead>\n",
       "    <tr style=\"text-align: right;\">\n",
       "      <th></th>\n",
       "      <th>Maze</th>\n",
       "      <th>Path Cost</th>\n",
       "      <th>Squares Explored</th>\n",
       "      <th>Max Frontier Size</th>\n",
       "      <th>Max Depth</th>\n",
       "    </tr>\n",
       "  </thead>\n",
       "  <tbody>\n",
       "    <tr>\n",
       "      <th>0</th>\n",
       "      <td>small</td>\n",
       "      <td>19.0</td>\n",
       "      <td>61.0</td>\n",
       "      <td>5.0</td>\n",
       "      <td>19.0</td>\n",
       "    </tr>\n",
       "    <tr>\n",
       "      <th>1</th>\n",
       "      <td>medium</td>\n",
       "      <td>68.0</td>\n",
       "      <td>225.0</td>\n",
       "      <td>7.0</td>\n",
       "      <td>72.0</td>\n",
       "    </tr>\n",
       "    <tr>\n",
       "      <th>2</th>\n",
       "      <td>large</td>\n",
       "      <td>210.0</td>\n",
       "      <td>515.0</td>\n",
       "      <td>16.0</td>\n",
       "      <td>210.0</td>\n",
       "    </tr>\n",
       "    <tr>\n",
       "      <th>3</th>\n",
       "      <td>open</td>\n",
       "      <td>62.0</td>\n",
       "      <td>182.0</td>\n",
       "      <td>71.0</td>\n",
       "      <td>62.0</td>\n",
       "    </tr>\n",
       "    <tr>\n",
       "      <th>4</th>\n",
       "      <td>empty</td>\n",
       "      <td>14.0</td>\n",
       "      <td>37.0</td>\n",
       "      <td>23.0</td>\n",
       "      <td>14.0</td>\n",
       "    </tr>\n",
       "    <tr>\n",
       "      <th>5</th>\n",
       "      <td>wall</td>\n",
       "      <td>14.0</td>\n",
       "      <td>46.0</td>\n",
       "      <td>27.0</td>\n",
       "      <td>14.0</td>\n",
       "    </tr>\n",
       "    <tr>\n",
       "      <th>6</th>\n",
       "      <td>loops</td>\n",
       "      <td>23.0</td>\n",
       "      <td>60.0</td>\n",
       "      <td>9.0</td>\n",
       "      <td>23.0</td>\n",
       "    </tr>\n",
       "  </tbody>\n",
       "</table>\n",
       "</div>"
      ],
      "text/plain": [
       "     Maze  Path Cost  Squares Explored  Max Frontier Size  Max Depth\n",
       "0   small       19.0              61.0                5.0       19.0\n",
       "1  medium       68.0             225.0                7.0       72.0\n",
       "2   large      210.0             515.0               16.0      210.0\n",
       "3    open       62.0             182.0               71.0       62.0\n",
       "4   empty       14.0              37.0               23.0       14.0\n",
       "5    wall       14.0              46.0               27.0       14.0\n",
       "6   loops       23.0              60.0                9.0       23.0"
      ]
     },
     "metadata": {},
     "output_type": "display_data"
    },
    {
     "name": "stdout",
     "output_type": "stream",
     "text": [
      "Weight: 3\n"
     ]
    },
    {
     "data": {
      "text/html": [
       "<div>\n",
       "<style scoped>\n",
       "    .dataframe tbody tr th:only-of-type {\n",
       "        vertical-align: middle;\n",
       "    }\n",
       "\n",
       "    .dataframe tbody tr th {\n",
       "        vertical-align: top;\n",
       "    }\n",
       "\n",
       "    .dataframe thead th {\n",
       "        text-align: right;\n",
       "    }\n",
       "</style>\n",
       "<table border=\"1\" class=\"dataframe\">\n",
       "  <thead>\n",
       "    <tr style=\"text-align: right;\">\n",
       "      <th></th>\n",
       "      <th>Maze</th>\n",
       "      <th>Path Cost</th>\n",
       "      <th>Squares Explored</th>\n",
       "      <th>Max Frontier Size</th>\n",
       "      <th>Max Depth</th>\n",
       "    </tr>\n",
       "  </thead>\n",
       "  <tbody>\n",
       "    <tr>\n",
       "      <th>0</th>\n",
       "      <td>small</td>\n",
       "      <td>19.0</td>\n",
       "      <td>49.0</td>\n",
       "      <td>6.0</td>\n",
       "      <td>19.0</td>\n",
       "    </tr>\n",
       "    <tr>\n",
       "      <th>1</th>\n",
       "      <td>medium</td>\n",
       "      <td>68.0</td>\n",
       "      <td>205.0</td>\n",
       "      <td>7.0</td>\n",
       "      <td>76.0</td>\n",
       "    </tr>\n",
       "    <tr>\n",
       "      <th>2</th>\n",
       "      <td>large</td>\n",
       "      <td>210.0</td>\n",
       "      <td>512.0</td>\n",
       "      <td>17.0</td>\n",
       "      <td>210.0</td>\n",
       "    </tr>\n",
       "    <tr>\n",
       "      <th>3</th>\n",
       "      <td>open</td>\n",
       "      <td>60.0</td>\n",
       "      <td>167.0</td>\n",
       "      <td>74.0</td>\n",
       "      <td>60.0</td>\n",
       "    </tr>\n",
       "    <tr>\n",
       "      <th>4</th>\n",
       "      <td>empty</td>\n",
       "      <td>14.0</td>\n",
       "      <td>39.0</td>\n",
       "      <td>25.0</td>\n",
       "      <td>14.0</td>\n",
       "    </tr>\n",
       "    <tr>\n",
       "      <th>5</th>\n",
       "      <td>wall</td>\n",
       "      <td>14.0</td>\n",
       "      <td>46.0</td>\n",
       "      <td>28.0</td>\n",
       "      <td>14.0</td>\n",
       "    </tr>\n",
       "    <tr>\n",
       "      <th>6</th>\n",
       "      <td>loops</td>\n",
       "      <td>23.0</td>\n",
       "      <td>61.0</td>\n",
       "      <td>10.0</td>\n",
       "      <td>23.0</td>\n",
       "    </tr>\n",
       "  </tbody>\n",
       "</table>\n",
       "</div>"
      ],
      "text/plain": [
       "     Maze  Path Cost  Squares Explored  Max Frontier Size  Max Depth\n",
       "0   small       19.0              49.0                6.0       19.0\n",
       "1  medium       68.0             205.0                7.0       76.0\n",
       "2   large      210.0             512.0               17.0      210.0\n",
       "3    open       60.0             167.0               74.0       60.0\n",
       "4   empty       14.0              39.0               25.0       14.0\n",
       "5    wall       14.0              46.0               28.0       14.0\n",
       "6   loops       23.0              61.0               10.0       23.0"
      ]
     },
     "metadata": {},
     "output_type": "display_data"
    },
    {
     "name": "stdout",
     "output_type": "stream",
     "text": [
      "Weight: 5\n"
     ]
    },
    {
     "data": {
      "text/html": [
       "<div>\n",
       "<style scoped>\n",
       "    .dataframe tbody tr th:only-of-type {\n",
       "        vertical-align: middle;\n",
       "    }\n",
       "\n",
       "    .dataframe tbody tr th {\n",
       "        vertical-align: top;\n",
       "    }\n",
       "\n",
       "    .dataframe thead th {\n",
       "        text-align: right;\n",
       "    }\n",
       "</style>\n",
       "<table border=\"1\" class=\"dataframe\">\n",
       "  <thead>\n",
       "    <tr style=\"text-align: right;\">\n",
       "      <th></th>\n",
       "      <th>Maze</th>\n",
       "      <th>Path Cost</th>\n",
       "      <th>Squares Explored</th>\n",
       "      <th>Max Frontier Size</th>\n",
       "      <th>Max Depth</th>\n",
       "    </tr>\n",
       "  </thead>\n",
       "  <tbody>\n",
       "    <tr>\n",
       "      <th>0</th>\n",
       "      <td>small</td>\n",
       "      <td>29.0</td>\n",
       "      <td>46.0</td>\n",
       "      <td>5.0</td>\n",
       "      <td>29.0</td>\n",
       "    </tr>\n",
       "    <tr>\n",
       "      <th>1</th>\n",
       "      <td>medium</td>\n",
       "      <td>68.0</td>\n",
       "      <td>164.0</td>\n",
       "      <td>7.0</td>\n",
       "      <td>85.0</td>\n",
       "    </tr>\n",
       "    <tr>\n",
       "      <th>2</th>\n",
       "      <td>large</td>\n",
       "      <td>210.0</td>\n",
       "      <td>506.0</td>\n",
       "      <td>22.0</td>\n",
       "      <td>210.0</td>\n",
       "    </tr>\n",
       "    <tr>\n",
       "      <th>3</th>\n",
       "      <td>open</td>\n",
       "      <td>62.0</td>\n",
       "      <td>165.0</td>\n",
       "      <td>74.0</td>\n",
       "      <td>62.0</td>\n",
       "    </tr>\n",
       "    <tr>\n",
       "      <th>4</th>\n",
       "      <td>empty</td>\n",
       "      <td>14.0</td>\n",
       "      <td>39.0</td>\n",
       "      <td>25.0</td>\n",
       "      <td>14.0</td>\n",
       "    </tr>\n",
       "    <tr>\n",
       "      <th>5</th>\n",
       "      <td>wall</td>\n",
       "      <td>14.0</td>\n",
       "      <td>45.0</td>\n",
       "      <td>24.0</td>\n",
       "      <td>14.0</td>\n",
       "    </tr>\n",
       "    <tr>\n",
       "      <th>6</th>\n",
       "      <td>loops</td>\n",
       "      <td>23.0</td>\n",
       "      <td>60.0</td>\n",
       "      <td>10.0</td>\n",
       "      <td>23.0</td>\n",
       "    </tr>\n",
       "  </tbody>\n",
       "</table>\n",
       "</div>"
      ],
      "text/plain": [
       "     Maze  Path Cost  Squares Explored  Max Frontier Size  Max Depth\n",
       "0   small       29.0              46.0                5.0       29.0\n",
       "1  medium       68.0             164.0                7.0       85.0\n",
       "2   large      210.0             506.0               22.0      210.0\n",
       "3    open       62.0             165.0               74.0       62.0\n",
       "4   empty       14.0              39.0               25.0       14.0\n",
       "5    wall       14.0              45.0               24.0       14.0\n",
       "6   loops       23.0              60.0               10.0       23.0"
      ]
     },
     "metadata": {},
     "output_type": "display_data"
    },
    {
     "name": "stdout",
     "output_type": "stream",
     "text": [
      "Weight: 8\n"
     ]
    },
    {
     "data": {
      "text/html": [
       "<div>\n",
       "<style scoped>\n",
       "    .dataframe tbody tr th:only-of-type {\n",
       "        vertical-align: middle;\n",
       "    }\n",
       "\n",
       "    .dataframe tbody tr th {\n",
       "        vertical-align: top;\n",
       "    }\n",
       "\n",
       "    .dataframe thead th {\n",
       "        text-align: right;\n",
       "    }\n",
       "</style>\n",
       "<table border=\"1\" class=\"dataframe\">\n",
       "  <thead>\n",
       "    <tr style=\"text-align: right;\">\n",
       "      <th></th>\n",
       "      <th>Maze</th>\n",
       "      <th>Path Cost</th>\n",
       "      <th>Squares Explored</th>\n",
       "      <th>Max Frontier Size</th>\n",
       "      <th>Max Depth</th>\n",
       "    </tr>\n",
       "  </thead>\n",
       "  <tbody>\n",
       "    <tr>\n",
       "      <th>0</th>\n",
       "      <td>small</td>\n",
       "      <td>29.0</td>\n",
       "      <td>44.0</td>\n",
       "      <td>5.0</td>\n",
       "      <td>29.0</td>\n",
       "    </tr>\n",
       "    <tr>\n",
       "      <th>1</th>\n",
       "      <td>medium</td>\n",
       "      <td>152.0</td>\n",
       "      <td>172.0</td>\n",
       "      <td>8.0</td>\n",
       "      <td>152.0</td>\n",
       "    </tr>\n",
       "    <tr>\n",
       "      <th>2</th>\n",
       "      <td>large</td>\n",
       "      <td>210.0</td>\n",
       "      <td>487.0</td>\n",
       "      <td>23.0</td>\n",
       "      <td>210.0</td>\n",
       "    </tr>\n",
       "    <tr>\n",
       "      <th>3</th>\n",
       "      <td>open</td>\n",
       "      <td>68.0</td>\n",
       "      <td>166.0</td>\n",
       "      <td>73.0</td>\n",
       "      <td>68.0</td>\n",
       "    </tr>\n",
       "    <tr>\n",
       "      <th>4</th>\n",
       "      <td>empty</td>\n",
       "      <td>14.0</td>\n",
       "      <td>37.0</td>\n",
       "      <td>23.0</td>\n",
       "      <td>14.0</td>\n",
       "    </tr>\n",
       "    <tr>\n",
       "      <th>5</th>\n",
       "      <td>wall</td>\n",
       "      <td>16.0</td>\n",
       "      <td>47.0</td>\n",
       "      <td>25.0</td>\n",
       "      <td>16.0</td>\n",
       "    </tr>\n",
       "    <tr>\n",
       "      <th>6</th>\n",
       "      <td>loops</td>\n",
       "      <td>23.0</td>\n",
       "      <td>60.0</td>\n",
       "      <td>9.0</td>\n",
       "      <td>23.0</td>\n",
       "    </tr>\n",
       "  </tbody>\n",
       "</table>\n",
       "</div>"
      ],
      "text/plain": [
       "     Maze  Path Cost  Squares Explored  Max Frontier Size  Max Depth\n",
       "0   small       29.0              44.0                5.0       29.0\n",
       "1  medium      152.0             172.0                8.0      152.0\n",
       "2   large      210.0             487.0               23.0      210.0\n",
       "3    open       68.0             166.0               73.0       68.0\n",
       "4   empty       14.0              37.0               23.0       14.0\n",
       "5    wall       16.0              47.0               25.0       16.0\n",
       "6   loops       23.0              60.0                9.0       23.0"
      ]
     },
     "metadata": {},
     "output_type": "display_data"
    }
   ],
   "source": [
    "df_init_2 = pd.DataFrame({'Maze': [], 'Path Cost': [],'Squares Explored': [],'Max Frontier Size': [],'Max Depth': []})\n",
    "weights = [2,3,5,8]\n",
    "for w in weights:\n",
    "    df_2 = df_init_2\n",
    "    for cur_maze in maze_names.keys():\n",
    "        maze = load_maze(cur_maze)\n",
    "        results = modified_astar(maze, weight = w, debug = False, visualize = False)\n",
    "        df_2 = df_2.append({\n",
    "            'Maze': cur_maze,\n",
    "            'Path Cost': (len(results[\"path\"])-1),\n",
    "            'Squares Explored': (len(results[\"reached\"])),\n",
    "            'Max Frontier Size': results[\"max-frontier\"],\n",
    "            'Max Depth': results[\"max-depth\"]\n",
    "        }, ignore_index=True)\n",
    "    print(\"Weight: {}\".format(w))\n",
    "    display(df_2)"
   ]
  },
  {
   "cell_type": "markdown",
   "metadata": {},
   "source": [
    "As seen in the above tables, adding a weight to the heuristic of A* certainly changes the results a little bit. We see the biggest change in the squares explored, especially when dealing with the small, medium, and large mazes. This makes sense because our heuristic is the manhattan distance to the solution, and in a situation with many options and walls at each step, it allows for a more heavy guidance to the solution. This can be seen in the large maze which decreases from 515 squares explored at a weight of 2 to 487 at a weight of 8. However, this is not good in all cases. For example, when looking at the path cost, as the weight increases, we start to see less optimal results and that makes sense because we are editing our heuristic which is the ultimate driver of its optimality. We see this with the medium maze where it drives the path cost from 68 (weight 2) to 152 (weight 8) and we dont even see an improvement in regards to the squares explored. This leads me to believe that with large very elaborate mazes, a heavier weight would help and with smaller less elaborate mazes a smaller weight would be better."
   ]
  },
  {
   "cell_type": "markdown",
   "metadata": {},
   "source": [
    "What happens if the agent does not know the layout of the maze in advance (i.e., faces an unkown, only partially observable environment)? How does the environment look then (PEAS description)? How would you implement a rational agent to solve the maze? What if the agent still has a GPS device to tell the distance to the goal?"
   ]
  },
  {
   "cell_type": "code",
   "execution_count": 13,
   "metadata": {},
   "outputs": [],
   "source": [
    "# Your code/answer goes here"
   ]
  }
 ],
 "metadata": {
  "kernelspec": {
   "display_name": "Python 3",
   "language": "python",
   "name": "python3"
  },
  "language_info": {
   "codemirror_mode": {
    "name": "ipython",
    "version": 3
   },
   "file_extension": ".py",
   "mimetype": "text/x-python",
   "name": "python",
   "nbconvert_exporter": "python",
   "pygments_lexer": "ipython3",
   "version": "3.8.5"
  }
 },
 "nbformat": 4,
 "nbformat_minor": 4
}
