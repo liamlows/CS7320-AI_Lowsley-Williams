{
 "cells": [
  {
   "cell_type": "markdown",
   "metadata": {},
   "source": [
    "# Monty Hall Problem\n",
    "\n",
    "> Suppose you're on a game show, and you're given the choice of three doors: Behind one door is a car; behind the others, goats. You pick a door, say No. 1, and the host, who knows what's behind the doors, opens another door, say No. 3, which has a goat. He then says to you, \"Do you want to pick door No. 2?\" Is it to your advantage to switch your choice?\n",
    "\n",
    "[Monty Hall Problem on Wikipedia](https://en.wikipedia.org/wiki/Monty_Hall_problem).\n",
    "\n",
    "## Implement the game as a function"
   ]
  },
  {
   "cell_type": "code",
   "execution_count": 10,
   "metadata": {},
   "outputs": [],
   "source": [
    "resample <- function(x, ...) x[sample.int(length(x), ...)]\n",
    "\n",
    "play_monty_hall <- function(chosen_door = 1, switch = FALSE, verbose = TRUE) {\n",
    "    doors <- 1:3\n",
    "    \n",
    "    if (verbose) cat(\"You chose door\", chosen_door, \"\\n\")\n",
    "    \n",
    "    # place car randomly\n",
    "    door_with_car <- sample(doors, size = 1)\n",
    "        \n",
    "    # host reveals an empty door\n",
    "    revealed_door <- resample(setdiff(doors, c(chosen_door, door_with_car)), \n",
    "        size = 1)\n",
    "    \n",
    "    if (verbose) cat(\"The host reveals a goat behind door\", revealed_door, \"\\n\")\n",
    "\n",
    "    # switch doors?\n",
    "    if (switch) { \n",
    "        chosen_door <- setdiff(doors, c(chosen_door, revealed_door))\n",
    "        if (verbose) cat(\"You switch to door\", chosen_door, \"\\n\")\n",
    "    }\n",
    "        \n",
    "    if (verbose) cat(\"The car is behind door\", door_with_car, \"\\n\")\n",
    "    \n",
    "    # win?\n",
    "    win = chosen_door == door_with_car\n",
    "\n",
    "    if (verbose) \n",
    "        if (win) cat(\"You win!\\n\\n\")\n",
    "        else cat(\"You lose!\\n\\n\")\n",
    "    \n",
    "    win\n",
    "}"
   ]
  },
  {
   "cell_type": "markdown",
   "metadata": {},
   "source": [
    "Test the function for no switching and for switching."
   ]
  },
  {
   "cell_type": "code",
   "execution_count": 11,
   "metadata": {},
   "outputs": [
    {
     "name": "stdout",
     "output_type": "stream",
     "text": [
      "You chose door 1 \n",
      "The host reveals a goat behind door 3 \n",
      "The car is behind door 2 \n",
      "You lose!\n",
      "\n"
     ]
    },
    {
     "data": {
      "text/html": [
       "FALSE"
      ],
      "text/latex": [
       "FALSE"
      ],
      "text/markdown": [
       "FALSE"
      ],
      "text/plain": [
       "[1] FALSE"
      ]
     },
     "metadata": {},
     "output_type": "display_data"
    },
    {
     "name": "stdout",
     "output_type": "stream",
     "text": [
      "You chose door 1 \n",
      "The host reveals a goat behind door 3 \n",
      "The car is behind door 2 \n",
      "You lose!\n",
      "\n"
     ]
    },
    {
     "data": {
      "text/html": [
       "FALSE"
      ],
      "text/latex": [
       "FALSE"
      ],
      "text/markdown": [
       "FALSE"
      ],
      "text/plain": [
       "[1] FALSE"
      ]
     },
     "metadata": {},
     "output_type": "display_data"
    },
    {
     "name": "stdout",
     "output_type": "stream",
     "text": [
      "You chose door 1 \n",
      "The host reveals a goat behind door 2 \n",
      "The car is behind door 1 \n",
      "You win!\n",
      "\n"
     ]
    },
    {
     "data": {
      "text/html": [
       "TRUE"
      ],
      "text/latex": [
       "TRUE"
      ],
      "text/markdown": [
       "TRUE"
      ],
      "text/plain": [
       "[1] TRUE"
      ]
     },
     "metadata": {},
     "output_type": "display_data"
    }
   ],
   "source": [
    "play_monty_hall(1, FALSE)\n",
    "play_monty_hall(1, FALSE)\n",
    "play_monty_hall(1, FALSE)"
   ]
  },
  {
   "cell_type": "code",
   "execution_count": 12,
   "metadata": {},
   "outputs": [
    {
     "name": "stdout",
     "output_type": "stream",
     "text": [
      "You chose door 1 \n",
      "The host reveals a goat behind door 2 \n",
      "You switch to door 3 \n",
      "The car is behind door 1 \n",
      "You lose!\n",
      "\n"
     ]
    },
    {
     "data": {
      "text/html": [
       "FALSE"
      ],
      "text/latex": [
       "FALSE"
      ],
      "text/markdown": [
       "FALSE"
      ],
      "text/plain": [
       "[1] FALSE"
      ]
     },
     "metadata": {},
     "output_type": "display_data"
    },
    {
     "name": "stdout",
     "output_type": "stream",
     "text": [
      "You chose door 1 \n",
      "The host reveals a goat behind door 2 \n",
      "You switch to door 3 \n",
      "The car is behind door 1 \n",
      "You lose!\n",
      "\n"
     ]
    },
    {
     "data": {
      "text/html": [
       "FALSE"
      ],
      "text/latex": [
       "FALSE"
      ],
      "text/markdown": [
       "FALSE"
      ],
      "text/plain": [
       "[1] FALSE"
      ]
     },
     "metadata": {},
     "output_type": "display_data"
    },
    {
     "name": "stdout",
     "output_type": "stream",
     "text": [
      "You chose door 1 \n",
      "The host reveals a goat behind door 2 \n",
      "You switch to door 3 \n",
      "The car is behind door 3 \n",
      "You win!\n",
      "\n"
     ]
    },
    {
     "data": {
      "text/html": [
       "TRUE"
      ],
      "text/latex": [
       "TRUE"
      ],
      "text/markdown": [
       "TRUE"
      ],
      "text/plain": [
       "[1] TRUE"
      ]
     },
     "metadata": {},
     "output_type": "display_data"
    }
   ],
   "source": [
    "play_monty_hall(1, TRUE)\n",
    "play_monty_hall(1, TRUE)\n",
    "play_monty_hall(1, TRUE)"
   ]
  },
  {
   "cell_type": "markdown",
   "metadata": {},
   "source": [
    "## Simulation\n",
    "\n",
    "Repeat the game 1000 times without switching and then with switching and compare the results. "
   ]
  },
  {
   "cell_type": "code",
   "execution_count": 13,
   "metadata": {},
   "outputs": [
    {
     "data": {
      "text/plain": [
       "results_without_switching\n",
       "FALSE  TRUE \n",
       "  670   330 "
      ]
     },
     "metadata": {},
     "output_type": "display_data"
    }
   ],
   "source": [
    "n <- 1000\n",
    "\n",
    "results_without_switching <- replicate(n, play_monty_hall(sample(1:3, 1), switch = FALSE, verbose = FALSE))\n",
    "table(results_without_switching)"
   ]
  },
  {
   "cell_type": "code",
   "execution_count": 14,
   "metadata": {},
   "outputs": [
    {
     "data": {
      "text/plain": [
       "results_with_switching\n",
       "FALSE  TRUE \n",
       "  327   673 "
      ]
     },
     "metadata": {},
     "output_type": "display_data"
    }
   ],
   "source": [
    "results_with_switching <- replicate(n, play_monty_hall(sample(1:3, 1), switch = TRUE, verbose = FALSE))\n",
    "table(results_with_switching)"
   ]
  },
  {
   "cell_type": "markdown",
   "metadata": {},
   "source": [
    "__Conclusion:__ Switching doubles your chances! "
   ]
  }
 ],
 "metadata": {
  "kernelspec": {
   "display_name": "R",
   "language": "R",
   "name": "ir"
  },
  "language_info": {
   "codemirror_mode": "r",
   "file_extension": ".r",
   "mimetype": "text/x-r-source",
   "name": "R",
   "pygments_lexer": "r",
   "version": "3.6.3"
  }
 },
 "nbformat": 4,
 "nbformat_minor": 4
}
