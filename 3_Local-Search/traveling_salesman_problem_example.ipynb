{
 "cells": [
  {
   "cell_type": "markdown",
   "metadata": {},
   "source": [
    "# Solving the Traveling Salesman  Problem using Local Search\n",
    "\n",
    "Points: 10"
   ]
  },
  {
   "cell_type": "markdown",
   "metadata": {},
   "source": [
    "## The Traveling Salesman Problem\n",
    "\n",
    "__Goal:__ Find the shortest tour visiting each of $n$ cities once. Given are pairwise distances between cities. \n",
    "\n",
    "__State space:__ Each state represents a tour. The cities are numbered and a tour can be expressed as vector  with the order in which the cities are visited (a permutation).\n",
    "\n",
    "__Objective function:__ Minimize the tour length.\n",
    "\n",
    "The optimization problem is to find the optimal arrangement $a^*$ of $n$ queens on the board:\n",
    "\n",
    "$$\\mathrm{argmin}_\\pi [ \\mathrm{tourLength}(\\pi) ]$$\n",
    "\n",
    "$$\\text{s.t.}\\ \\pi \\ \\text{is a valid permutation vector}$$\n",
    "\n",
    "__Local moves:__ Exchange two cities in the order.\n",
    "\n",
    "## Helper functions\n"
   ]
  },
  {
   "cell_type": "code",
   "execution_count": 174,
   "metadata": {},
   "outputs": [],
   "source": [
    "import numpy as np\n",
    "import pandas as pd\n",
    "import matplotlib.pyplot as plt\n",
    "import math\n",
    "import random\n",
    "\n",
    "np.set_printoptions(precision=2)\n",
    "pd.set_option('precision', 2)\n",
    "\n",
    "# make the results repeatable\n",
    "np.random.seed(1234)"
   ]
  },
  {
   "cell_type": "code",
   "execution_count": 175,
   "metadata": {},
   "outputs": [
    {
     "data": {
      "text/plain": [
       "[0, 9, 2, 7, 3, 4, 8, 1, 6, 5]"
      ]
     },
     "execution_count": 175,
     "metadata": {},
     "output_type": "execute_result"
    }
   ],
   "source": [
    "def random_tour(n):\n",
    "    \"\"\"Create a random tour\"\"\"\n",
    "    \n",
    "    tour = list(range(n))\n",
    "    random.shuffle(tour)\n",
    "    return(tour)\n",
    "\n",
    "random_tour(10)"
   ]
  },
  {
   "cell_type": "code",
   "execution_count": 176,
   "metadata": {
    "scrolled": true
   },
   "outputs": [
    {
     "name": "stdout",
     "output_type": "stream",
     "text": [
      "Positions:\n",
      "      x     y\n",
      "0  0.19  0.36\n",
      "1  0.62  0.50\n",
      "2  0.44  0.68\n",
      "3  0.79  0.71\n",
      "4  0.78  0.37\n",
      "5  0.27  0.56\n",
      "6  0.28  0.50\n",
      "7  0.80  0.01\n",
      "8  0.96  0.77\n",
      "9  0.88  0.88\n",
      "Distance matrix:\n",
      "      0     1     2     3     4     5     6     7     8     9\n",
      "0  0.00  0.45  0.41  0.69  0.59  0.22  0.17  0.70  0.87  0.86\n",
      "1  0.45  0.00  0.26  0.27  0.20  0.35  0.35  0.52  0.43  0.46\n",
      "2  0.41  0.26  0.00  0.35  0.46  0.21  0.24  0.76  0.53  0.48\n",
      "3  0.69  0.27  0.35  0.00  0.34  0.53  0.55  0.70  0.18  0.19\n",
      "4  0.59  0.20  0.46  0.34  0.00  0.54  0.52  0.36  0.44  0.52\n",
      "5  0.22  0.35  0.21  0.53  0.54  0.00  0.06  0.76  0.72  0.68\n",
      "6  0.17  0.35  0.24  0.55  0.52  0.06  0.00  0.72  0.73  0.71\n",
      "7  0.70  0.52  0.76  0.70  0.36  0.76  0.72  0.00  0.77  0.87\n",
      "8  0.87  0.43  0.53  0.18  0.44  0.72  0.73  0.77  0.00  0.14\n",
      "9  0.86  0.46  0.48  0.19  0.52  0.68  0.71  0.87  0.14  0.00)\n"
     ]
    }
   ],
   "source": [
    "from scipy.spatial.distance import pdist\n",
    "from scipy.spatial.distance import squareform\n",
    "\n",
    "def random_tsp(n):\n",
    "    \"\"\"\n",
    "    Create a random (Euclidean) traveling salesman problem. Choose n points randomly in a 1 x 1 unit square and calulates a \n",
    "    pairwise Euclidean distance matrix.\n",
    "    \"\"\"\n",
    "    \n",
    "    pos = pd.DataFrame({\n",
    "        \"x\" : np.random.uniform(size = n),\n",
    "        \"y\" : np.random.uniform(size = n)\n",
    "    })\n",
    "    \n",
    "    dist = squareform(pdist(pos))\n",
    "    \n",
    "    return({\"pos\": pos, \"dist\": dist})\n",
    "    \n",
    "tsp = random_tsp(10)\n",
    "\n",
    "print(f\"Positions:\\n{tsp['pos']}\")\n",
    "print(f\"Distance matrix:\\n{pd.DataFrame(tsp['dist'])})\")"
   ]
  },
  {
   "cell_type": "code",
   "execution_count": 177,
   "metadata": {},
   "outputs": [
    {
     "data": {
      "text/plain": [
       "4.481464311979203"
      ]
     },
     "execution_count": 177,
     "metadata": {},
     "output_type": "execute_result"
    }
   ],
   "source": [
    "def tour_length(tsp, tour):\n",
    "    \"\"\"Caclulate the length of a tour, i.e., the objective function.\"\"\"\n",
    "    \n",
    "    # make sure tour is a Python list (not an array or a numpy.array)\n",
    "    if not isinstance(tour, list): tour = tour.tolist()\n",
    "    \n",
    "    tl = 0\n",
    "    dist = tsp[\"dist\"]\n",
    "    \n",
    "    for i in range(len(tour)-1):\n",
    "        tl += dist[tour[i], tour[i+1]]\n",
    "    \n",
    "    tl += dist[tour[-1], tour[0]]\n",
    "    \n",
    "    return(tl)\n",
    "        \n",
    "tour = random_tour(10)\n",
    "tour_length(tsp, tour)"
   ]
  },
  {
   "cell_type": "code",
   "execution_count": 178,
   "metadata": {
    "scrolled": true
   },
   "outputs": [
    {
     "name": "stdout",
     "output_type": "stream",
     "text": [
      "Tour length: 4.48\n"
     ]
    },
    {
     "data": {
      "image/png": "[encoded data removed]",
      "text/plain": [
       "<Figure size 432x288 with 1 Axes>"
      ]
     },
     "metadata": {
      "needs_background": "light"
     },
     "output_type": "display_data"
    }
   ],
   "source": [
    "def show_tsp(tsp, tour = None):  \n",
    "    \"\"\"display the traveling salesman problem and a tour.\"\"\"\n",
    "    \n",
    "    pos = tsp[\"pos\"]\n",
    "    \n",
    "    plt.scatter(pos[\"x\"], pos[\"y\"])\n",
    "    \n",
    "    if tour is not None:\n",
    "        # make sure tour is a Python list (not an array or a numpy.array)\n",
    "        if not isinstance(tour, list): tour = tour.tolist()\n",
    "        \n",
    "        print(f\"Tour length: {round(tour_length(tsp, tour), 2)}\")\n",
    "        \n",
    "        pos_ = pos.reindex(tour)\n",
    "        pos_ = pos_.append(pos_.head(1))\n",
    "        plt.plot(pos_[\"x\"], pos_[\"y\"])\n",
    "    \n",
    "    plt.show()\n",
    "    \n",
    "show_tsp(tsp, tour)"
   ]
  },
  {
   "cell_type": "markdown",
   "metadata": {},
   "source": [
    "## Use R to find a solution\n",
    "\n",
    "Load rpy2, make sure the R [TSP package](https://CRAN.R-project.org/package=TSP) is installed and prepare the distance matrix."
   ]
  },
  {
   "cell_type": "code",
   "execution_count": 179,
   "metadata": {},
   "outputs": [
    {
     "name": "stdout",
     "output_type": "stream",
     "text": [
      "The rpy2.ipython extension is already loaded. To reload it, use:\n",
      "  %reload_ext rpy2.ipython\n"
     ]
    }
   ],
   "source": [
    "%load_ext rpy2.ipython\n",
    "\n",
    "%R if(!\"TSP\" %in% rownames(installed.packages())) install.packages(\"TSP\", repos=\"http://cran.us.r-project.org\")\n",
    "%R if(!\"microbenchmark\" %in% rownames(installed.packages())) install.packages(\"microbenchmark\", repos=\"http://cran.us.r-project.org\")\n",
    "\n",
    "d = tsp[\"dist\"]"
   ]
  },
  {
   "cell_type": "markdown",
   "metadata": {},
   "source": [
    "Solve the TSP using [`solve_TSP`](https://www.rdocumentation.org/packages/TSP/versions/1.1-10/topics/solve_TSP) with the default heuristic. Note that 2-opt is steepest ascend hill climbing with exchanging two cities. `rep=100` means 100 random restarts."
   ]
  },
  {
   "cell_type": "code",
   "execution_count": 180,
   "metadata": {},
   "outputs": [
    {
     "name": "stdout",
     "output_type": "stream",
     "text": [
      "object of class ‘TSP’ \n",
      "10 cities (distance ‘unknown’) \n",
      "object of class ‘TOUR’ \n",
      "result of method ‘arbitrary_insertion+two_opt_rep_100’ for 10 cities\n",
      "tour length: 2.763574 \n"
     ]
    }
   ],
   "source": [
    "%%R -i d -o tour\n",
    "\n",
    "library(\"TSP\")\n",
    "\n",
    "tsp <- TSP(d)\n",
    "print(tsp)\n",
    "\n",
    "tour <- solve_TSP(tsp, rep = 100)\n",
    "print(tour)\n",
    "\n",
    "# R starts index with 1, but Python starts at 0\n",
    "tour <- tour - 1L"
   ]
  },
  {
   "cell_type": "code",
   "execution_count": 181,
   "metadata": {
    "scrolled": false
   },
   "outputs": [
    {
     "name": "stdout",
     "output_type": "stream",
     "text": [
      "Tour length: 2.76\n"
     ]
    },
    {
     "data": {
      "image/png": "[encoded data removed]",
      "text/plain": [
       "<Figure size 432x288 with 1 Axes>"
      ]
     },
     "metadata": {
      "needs_background": "light"
     },
     "output_type": "display_data"
    }
   ],
   "source": [
    "show_tsp(tsp, tour)"
   ]
  },
  {
   "cell_type": "markdown",
   "metadata": {},
   "source": [
    "How long does it take to solve the problem?"
   ]
  },
  {
   "cell_type": "code",
   "execution_count": 182,
   "metadata": {},
   "outputs": [
    {
     "name": "stdout",
     "output_type": "stream",
     "text": [
      "Unit: microseconds\n",
      "          expr     min      lq     mean   median       uq    max neval\n",
      " tsp <- TSP(d) 287.868 300.804 335.3012 324.3715 363.0205 594.16   100\n"
     ]
    }
   ],
   "source": [
    "%%R -i d\n",
    "\n",
    "library(\"microbenchmark\")\n",
    "\n",
    "microbenchmark(tsp <- TSP(d))"
   ]
  },
  {
   "cell_type": "markdown",
   "metadata": {},
   "source": [
    "## Steepest-ascend Hill Climbing Search [3 Points]\n",
    "\n",
    "Calculate the objective function for all local moves (move each queen within its column) and always choose the best among all local moves."
   ]
  },
  {
   "cell_type": "code",
   "execution_count": 183,
   "metadata": {
    "scrolled": false
   },
   "outputs": [],
   "source": [
    "# Code goes here"
   ]
  },
  {
   "cell_type": "markdown",
   "metadata": {},
   "source": [
    "## Steepest-ascend Hill Climbing Search with Random Restarts [1 Point]\n",
    "\n",
    "Steepest-ascend with random restarts."
   ]
  },
  {
   "cell_type": "code",
   "execution_count": 184,
   "metadata": {
    "scrolled": false
   },
   "outputs": [],
   "source": [
    "# Code goes here"
   ]
  },
  {
   "cell_type": "markdown",
   "metadata": {},
   "source": [
    "## Stochastic Hill Climbing [1 Points]\n",
    "\n",
    "Chooses randomly from among all uphill moves."
   ]
  },
  {
   "cell_type": "code",
   "execution_count": 185,
   "metadata": {},
   "outputs": [],
   "source": [
    "# Code goes here"
   ]
  },
  {
   "cell_type": "markdown",
   "metadata": {},
   "source": [
    "## First-choice Hill Climbing [1 Point]\n",
    "\n",
    "First-choice hill climbing is a type of stochastic hill climbing that generates one random local neighbor at a time and accept it if it has a better objective function value than the current state."
   ]
  },
  {
   "cell_type": "markdown",
   "metadata": {},
   "source": [
    "I implement two different local moves. Swapping two cities and reversing the subtour between two cities (which is better)."
   ]
  },
  {
   "cell_type": "code",
   "execution_count": 186,
   "metadata": {},
   "outputs": [
    {
     "name": "stdout",
     "output_type": "stream",
     "text": [
      "[7, 1, 2, 3, 4, 5, 6, 0, 8, 9]\n",
      "[9, 1, 2, 3, 4, 5, 6, 7, 8, 0]\n",
      "[0, 1, 3, 2, 4, 5, 6, 7, 8, 9]\n"
     ]
    }
   ],
   "source": [
    "def move_swap(tour):\n",
    "    new_tour = tour.copy()\n",
    "    \n",
    "    # np.random.randint is inclusive lower limit and exclusive upper limit\n",
    "    [a, b] = np.random.randint(0, len(tour), 2)\n",
    "    #print(f\"a={a}, b={b}\")\n",
    "    \n",
    "    new_tour[a] = tour[b]\n",
    "    new_tour[b] = tour[a]\n",
    "    return(new_tour)\n",
    "\n",
    "print(move_swap(list(range(10))))\n",
    "print(move_swap(list(range(10))))\n",
    "print(move_swap(list(range(10))))"
   ]
  },
  {
   "cell_type": "code",
   "execution_count": 187,
   "metadata": {},
   "outputs": [
    {
     "name": "stdout",
     "output_type": "stream",
     "text": [
      "[0, 1, 2, 4, 3, 5, 6, 7, 8, 9]\n",
      "[0, 2, 1, 3, 4, 5, 6, 7, 8, 9]\n",
      "[0, 1, 2, 4, 3, 5, 6, 7, 8, 9]\n"
     ]
    }
   ],
   "source": [
    "def move_swap_neighbors(tour):\n",
    "    new_tour = tour.copy()\n",
    "    \n",
    "    a = np.random.randint(0, len(tour)-1, 1)[0]\n",
    "    if a > 0: b = a+1\n",
    "    else: b = len(tour)-1  \n",
    "    #print(f\"a={a}, b={b}\")\n",
    "    \n",
    "    new_tour[a] = tour[b]\n",
    "    new_tour[b] = tour[a]\n",
    "    return(new_tour)\n",
    "\n",
    "print(move_swap_neighbors(list(range(10))))\n",
    "print(move_swap_neighbors(list(range(10))))\n",
    "print(move_swap_neighbors(list(range(10))))"
   ]
  },
  {
   "cell_type": "code",
   "execution_count": 188,
   "metadata": {},
   "outputs": [
    {
     "name": "stdout",
     "output_type": "stream",
     "text": [
      "[0, 9, 8, 7, 6, 5, 4, 3, 2, 1]\n",
      "[0, 1, 2, 6, 5, 4, 3, 7, 8, 9]\n",
      "[0, 9, 8, 7, 6, 5, 4, 3, 2, 1]\n"
     ]
    }
   ],
   "source": [
    "def move_reverse(tour):\n",
    "    new_tour = tour.copy()\n",
    "    \n",
    "    ab = np.random.randint(0, len(tour)+1, 2)\n",
    "    ab.sort()\n",
    "    #print(f\"a={ab[0]}, b={ab[1]}\")\n",
    "        \n",
    "    new_tour[ab[0]:ab[1]] = new_tour[ab[0]:ab[1]][::-1]\n",
    "    return(new_tour)\n",
    "\n",
    "print(move_reverse(list(range(10))))\n",
    "print(move_reverse(list(range(10))))\n",
    "print(move_reverse(list(range(10))))"
   ]
  },
  {
   "cell_type": "markdown",
   "metadata": {},
   "source": [
    "I don't know what the optimal tour is so I run the algorithm for `max_steps` steps, but stop if there is no improvement for `stop_after` steps."
   ]
  },
  {
   "cell_type": "code",
   "execution_count": 189,
   "metadata": {},
   "outputs": [],
   "source": [
    "def FCHC(tsp, tour = None, local_move_method = move_swap, \n",
    "         max_steps = 1000000, stop_after = 1000, verbose = True):\n",
    "    \n",
    "    n = len(tsp['pos'])\n",
    "    \n",
    "    # 1. initialize current tour\n",
    "    # current tour = initial tour (random if no tour is given)\n",
    "    if not tour is None:\n",
    "        current_tour = tour\n",
    "    else:\n",
    "        current_tour = random_tour(n)\n",
    "    \n",
    "    \n",
    "    # initial tour length\n",
    "    current_length = tour_length(tsp, current_tour)    \n",
    "    if verbose: print(f\"initial tour length: {current_length}\")\n",
    "    \n",
    "    # step when we last improved the length\n",
    "    last_improvement_step = 0\n",
    "    \n",
    "    # 2. repeat local moves\n",
    "    for step in range(max_steps):\n",
    "        \n",
    "        new_tour = local_move_method(current_tour)\n",
    "        new_length = tour_length(tsp, new_tour)\n",
    "        \n",
    "        # check if the new tour is better   \n",
    "        if new_length < current_length: \n",
    "            current_tour = new_tour\n",
    "            current_length = new_length\n",
    "            last_improvement_step = step\n",
    "            if verbose: print(f\"step: {step} - new tour length: {current_length}\")\n",
    "    \n",
    "        # stop if we did not improve for stop_after steps\n",
    "        if step - last_improvement_step > stop_after: \n",
    "            if verbose: print(f\"step: {step} - no improvement for {stop_after} steps.\")\n",
    "            break\n",
    "      \n",
    "    return(current_tour)"
   ]
  },
  {
   "cell_type": "code",
   "execution_count": 190,
   "metadata": {},
   "outputs": [
    {
     "name": "stdout",
     "output_type": "stream",
     "text": [
      "Tour length: 5.07\n"
     ]
    },
    {
     "data": {
      "image/png": "[encoded data removed]",
      "text/plain": [
       "<Figure size 432x288 with 1 Axes>"
      ]
     },
     "metadata": {
      "needs_background": "light"
     },
     "output_type": "display_data"
    }
   ],
   "source": [
    "initial_tour = random_tour(len(tsp['pos']))\n",
    "show_tsp(tsp, initial_tour)"
   ]
  },
  {
   "cell_type": "code",
   "execution_count": 191,
   "metadata": {
    "scrolled": false
   },
   "outputs": [
    {
     "name": "stdout",
     "output_type": "stream",
     "text": [
      "initial tour length: 5.074808011656379\n",
      "step: 0 - new tour length: 4.955035085581407\n",
      "step: 1 - new tour length: 4.352111570060356\n",
      "step: 5 - new tour length: 4.035079731795928\n",
      "step: 9 - new tour length: 3.8594372397506054\n",
      "step: 12 - new tour length: 3.41122131956838\n",
      "step: 21 - new tour length: 3.2403716435166237\n",
      "step: 52 - new tour length: 3.153223959037089\n",
      "step: 65 - new tour length: 3.047219924886294\n",
      "step: 91 - new tour length: 3.0009047090223695\n",
      "step: 107 - new tour length: 2.9062078251965873\n",
      "step: 1108 - no improvement for 1000 steps.\n",
      "CPU times: user 46.9 ms, sys: 372 µs, total: 47.3 ms\n",
      "Wall time: 40.2 ms\n",
      "Tour length: 2.91\n"
     ]
    },
    {
     "data": {
      "image/png": "[encoded data removed]",
      "text/plain": [
       "<Figure size 432x288 with 1 Axes>"
      ]
     },
     "metadata": {
      "needs_background": "light"
     },
     "output_type": "display_data"
    }
   ],
   "source": [
    "%time tour = FCHC(tsp, initial_tour, local_move_method = move_swap)\n",
    "show_tsp(tsp, tour)"
   ]
  },
  {
   "cell_type": "code",
   "execution_count": 192,
   "metadata": {},
   "outputs": [
    {
     "name": "stdout",
     "output_type": "stream",
     "text": [
      "initial tour length: 5.074808011656379\n",
      "step: 1 - new tour length: 4.333016916313861\n",
      "step: 16 - new tour length: 4.150141271100165\n",
      "step: 1017 - no improvement for 1000 steps.\n",
      "CPU times: user 46.4 ms, sys: 12.1 ms, total: 58.5 ms\n",
      "Wall time: 51.5 ms\n",
      "Tour length: 4.15\n"
     ]
    },
    {
     "data": {
      "image/png": "[encoded data removed]",
      "text/plain": [
       "<Figure size 432x288 with 1 Axes>"
      ]
     },
     "metadata": {
      "needs_background": "light"
     },
     "output_type": "display_data"
    }
   ],
   "source": [
    "%time tour = FCHC(tsp, initial_tour, local_move_method = move_swap_neighbors)\n",
    "show_tsp(tsp, tour)"
   ]
  },
  {
   "cell_type": "code",
   "execution_count": 193,
   "metadata": {},
   "outputs": [
    {
     "name": "stdout",
     "output_type": "stream",
     "text": [
      "initial tour length: 5.074808011656379\n",
      "step: 0 - new tour length: 4.670214473900359\n",
      "step: 3 - new tour length: 4.4645016706205425\n",
      "step: 6 - new tour length: 4.077715454767877\n",
      "step: 13 - new tour length: 4.030431740527397\n",
      "step: 14 - new tour length: 4.017787203943739\n",
      "step: 23 - new tour length: 3.7054502461733234\n",
      "step: 24 - new tour length: 3.6934242770113843\n",
      "step: 29 - new tour length: 3.404936205932136\n",
      "step: 32 - new tour length: 3.3940061285135688\n",
      "step: 37 - new tour length: 3.388418407908896\n",
      "step: 50 - new tour length: 3.0396707255400464\n",
      "step: 79 - new tour length: 2.9525230410605117\n",
      "step: 104 - new tour length: 2.8810894251962416\n",
      "step: 1105 - no improvement for 1000 steps.\n",
      "CPU times: user 54.6 ms, sys: 0 ns, total: 54.6 ms\n",
      "Wall time: 52.4 ms\n",
      "Tour length: 2.88\n"
     ]
    },
    {
     "data": {
      "image/png": "[encoded data removed]",
      "text/plain": [
       "<Figure size 432x288 with 1 Axes>"
      ]
     },
     "metadata": {
      "needs_background": "light"
     },
     "output_type": "display_data"
    }
   ],
   "source": [
    "%time tour = FCHC(tsp, initial_tour, local_move_method = move_reverse)\n",
    "show_tsp(tsp, tour)"
   ]
  },
  {
   "cell_type": "markdown",
   "metadata": {},
   "source": [
    "Compare the two types of local moves"
   ]
  },
  {
   "cell_type": "code",
   "execution_count": 194,
   "metadata": {},
   "outputs": [],
   "source": [
    "N = 100 # replications\n",
    "n = 20 # number of cities\n",
    "\n",
    "results = { \n",
    "    'swap' : np.zeros(shape = [N]),\n",
    "    'swap_neighbors' : np.zeros(shape = [N]),\n",
    "    'reverse' : np.zeros(shape = [N]) \n",
    "}\n",
    "\n",
    "for i in range(N):\n",
    "    tsp_test = random_tsp(n)\n",
    "    initial_tour = random_tour(n)\n",
    "    \n",
    "    results['swap'][i] = tour_length(tsp_test, \n",
    "        FCHC(tsp_test, initial_tour, local_move_method = move_swap, verbose = False))\n",
    "    \n",
    "    results['swap_neighbors'][i] = tour_length(tsp_test, \n",
    "        FCHC(tsp_test, initial_tour, local_move_method = move_swap_neighbors, verbose = False))\n",
    "    \n",
    "    results['reverse'][i] = tour_length(tsp_test, \n",
    "        FCHC(tsp_test, initial_tour, local_move_method = move_reverse, verbose = False))"
   ]
  },
  {
   "cell_type": "code",
   "execution_count": 195,
   "metadata": {},
   "outputs": [
    {
     "name": "stdout",
     "output_type": "stream",
     "text": [
      "    swap  swap_neighbors  reverse\n",
      "0   3.51            7.07     3.54\n",
      "1   5.42            8.61     4.16\n",
      "2   3.77            6.71     3.77\n",
      "3   3.98            7.70     3.39\n",
      "4   4.59            8.21     3.78\n",
      "..   ...             ...      ...\n",
      "95  5.28            8.66     4.24\n",
      "96  4.42            9.33     3.73\n",
      "97  4.51            7.87     3.93\n",
      "98  5.18            8.62     4.16\n",
      "99  4.73            7.51     4.05\n",
      "\n",
      "[100 rows x 3 columns]\n",
      "swap              4.62\n",
      "swap_neighbors    8.25\n",
      "reverse           3.97\n",
      "dtype: float64\n"
     ]
    },
    {
     "data": {
      "image/png": "[encoded data removed]",
      "text/plain": [
       "<Figure size 432x288 with 1 Axes>"
      ]
     },
     "metadata": {
      "needs_background": "light"
     },
     "output_type": "display_data"
    }
   ],
   "source": [
    "# compare averages\n",
    "import pandas as pd\n",
    "import matplotlib.pyplot as plt\n",
    "\n",
    "results = pd.DataFrame(results)\n",
    "print(results)\n",
    "\n",
    "means = np.mean(results, axis = 0)\n",
    "print(means)\n",
    "\n",
    "plt.bar(means.keys(), means)\n",
    "plt.ylabel(\"mean tour length\")\n",
    "plt.show()\n"
   ]
  },
  {
   "cell_type": "code",
   "execution_count": 196,
   "metadata": {},
   "outputs": [
    {
     "data": {
      "image/png": "[encoded data removed]",
      "text/plain": [
       "<Figure size 432x288 with 1 Axes>"
      ]
     },
     "metadata": {
      "needs_background": "light"
     },
     "output_type": "display_data"
    }
   ],
   "source": [
    "# histogram\n",
    "\n",
    "plt.hist(results['swap'], bins = 20, alpha = .5)\n",
    "plt.hist(results['swap_neighbors'], bins = 20, alpha = .5)\n",
    "plt.hist(results['reverse'], bins = 20, alpha = .5)\n",
    "plt.xlabel(\"tour length\")\n",
    "plt.ylabel(\"frequency\")\n",
    "plt.legend(labels = [\"swap\", \"swap_neighbors\", \"reverse\"])\n",
    "plt.show()"
   ]
  },
  {
   "cell_type": "code",
   "execution_count": 197,
   "metadata": {},
   "outputs": [
    {
     "data": {
      "text/plain": [
       "<matplotlib.axes._subplots.AxesSubplot at 0x7f4e68989130>"
      ]
     },
     "execution_count": 197,
     "metadata": {},
     "output_type": "execute_result"
    },
    {
     "data": {
      "image/png": "[encoded data removed]",
      "text/plain": [
       "<Figure size 432x288 with 1 Axes>"
      ]
     },
     "metadata": {
      "needs_background": "light"
     },
     "output_type": "display_data"
    }
   ],
   "source": [
    "# boxplot (from pandas.DataFrame)\n",
    "\n",
    "results.boxplot()"
   ]
  },
  {
   "cell_type": "code",
   "execution_count": 198,
   "metadata": {},
   "outputs": [
    {
     "data": {
      "text/plain": [
       "Ttest_relResult(statistic=14.416189114592555, pvalue=4.6595199039479275e-26)"
      ]
     },
     "execution_count": 198,
     "metadata": {},
     "output_type": "execute_result"
    }
   ],
   "source": [
    "# is reverse better than swap?\n",
    "# perform a paired t-test\n",
    "\n",
    "from scipy import stats\n",
    "\n",
    "stats.ttest_rel(results['swap'], results['reverse'])"
   ]
  },
  {
   "cell_type": "markdown",
   "metadata": {},
   "source": [
    "## Simulated Annealing [2 Points]"
   ]
  },
  {
   "cell_type": "code",
   "execution_count": 199,
   "metadata": {},
   "outputs": [],
   "source": [
    "def SA(tsp, tour = None, local_move_method = move_reverse, \n",
    "         T0 = None, alpha = 0.999, epsilon = 1e-3, verbose = True):\n",
    "    \n",
    "    n = len(tsp['pos'])\n",
    "    \n",
    "    # 1. initialize current tour\n",
    "    # current tour = initial tour (random if no tour is given)\n",
    "    if not tour is None:\n",
    "        current_tour = tour\n",
    "    else:\n",
    "        current_tour = random_tour(n)\n",
    "    \n",
    "    # initial tour length\n",
    "    current_length = tour_length(tsp, current_tour)    \n",
    "    if verbose: print(f\"initial tour length: {current_length:3.3}\")\n",
    "    \n",
    "    # use the current tour to set T0 (it would be better to sample several ranfom tours instead)\n",
    "    if T0 is None:\n",
    "        T0 = current_length\n",
    "    \n",
    "    # 2. repeat local moves till temperature is low enough\n",
    "    T = T0\n",
    "    t = 0\n",
    "    while T > epsilon:\n",
    "        \n",
    "        # calculate temperature from schedule\n",
    "        T = T0 * alpha ** t\n",
    "        \n",
    "        # create random move\n",
    "        new_tour = local_move_method(current_tour)\n",
    "        new_length = tour_length(tsp, new_tour)\n",
    "        \n",
    "        deltaE = new_length - current_length\n",
    "        \n",
    "        # check if the new tour is better   \n",
    "        if deltaE < 0 or np.random.rand() < math.exp(-deltaE/T): \n",
    "            current_tour = new_tour\n",
    "            current_length = new_length\n",
    "            if verbose: print(f\"step: {t} \\t temp: {T:5.3f} \\t deltaE: {deltaE:+3.3f} \\t new tour length: {current_length:3.3f}\")\n",
    "      \n",
    "        t += 1\n",
    "    \n",
    "    return(current_tour)"
   ]
  },
  {
   "cell_type": "code",
   "execution_count": 200,
   "metadata": {
    "scrolled": false
   },
   "outputs": [
    {
     "name": "stdout",
     "output_type": "stream",
     "text": [
      "CPU times: user 295 ms, sys: 36.4 ms, total: 331 ms\n",
      "Wall time: 295 ms\n",
      "Tour length: 2.79\n"
     ]
    },
    {
     "data": {
      "image/png": "[encoded data removed]",
      "text/plain": [
       "<Figure size 432x288 with 1 Axes>"
      ]
     },
     "metadata": {
      "needs_background": "light"
     },
     "output_type": "display_data"
    }
   ],
   "source": [
    "%time tour = SA(tsp, local_move_method = move_swap, verbose = False)\n",
    "show_tsp(tsp, tour)"
   ]
  },
  {
   "cell_type": "markdown",
   "metadata": {},
   "source": [
    "## Compare Performance [2 Points]\n",
    "\n",
    "Use runtime, scalability (number of cities), and best objective function value to compare the algorithms on boards of different sizes.  \n",
    "\n",
    "For timing you can use the `time` package."
   ]
  },
  {
   "cell_type": "code",
   "execution_count": 201,
   "metadata": {},
   "outputs": [
    {
     "name": "stdout",
     "output_type": "stream",
     "text": [
      "Do something\n",
      "This took: 0.23794174194335938 milliseconds\n"
     ]
    }
   ],
   "source": [
    "import time\n",
    "\n",
    "t0 = time.time()\n",
    "print(\"Do something\")\n",
    "t1 = time.time()\n",
    "\n",
    "print(f\"This took: {(t1-t0) * 1e3} milliseconds\")"
   ]
  },
  {
   "cell_type": "code",
   "execution_count": 202,
   "metadata": {},
   "outputs": [],
   "source": [
    "# Code and results go here"
   ]
  },
  {
   "cell_type": "markdown",
   "metadata": {},
   "source": [
    "## Bonus: Genetic Algorithm [+1 Point]"
   ]
  },
  {
   "cell_type": "code",
   "execution_count": 203,
   "metadata": {},
   "outputs": [],
   "source": [
    "# Code goes here"
   ]
  },
  {
   "cell_type": "code",
   "execution_count": null,
   "metadata": {},
   "outputs": [],
   "source": []
  }
 ],
 "metadata": {
  "kernelspec": {
   "display_name": "Python 3",
   "language": "python",
   "name": "python3"
  },
  "language_info": {
   "codemirror_mode": {
    "name": "ipython",
    "version": 3
   },
   "file_extension": ".py",
   "mimetype": "text/x-python",
   "name": "python",
   "nbconvert_exporter": "python",
   "pygments_lexer": "ipython3",
   "version": "3.8.5"
  }
 },
 "nbformat": 4,
 "nbformat_minor": 4
}
